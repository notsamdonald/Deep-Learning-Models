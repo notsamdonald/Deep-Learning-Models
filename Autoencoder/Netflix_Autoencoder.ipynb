{
  "cells": [
    {
      "cell_type": "markdown",
      "metadata": {
        "id": "O0absaaE87fe"
      },
      "source": [
        "# CS5814: Assignment 3\n",
        "\n",
        "## Problem 2"
      ]
    },
    {
      "cell_type": "markdown",
      "metadata": {
        "id": "DUoTPhnX87fm"
      },
      "source": [
        "In problem involves using an autoencoder based filtering technique to recommend movies to users. This is similar to what Netflix uses for its movie recommendations.\n",
        "\n",
        "The MovieLens 100K dataset is used for this problem."
      ]
    },
    {
      "cell_type": "markdown",
      "source": [
        "**Main todo is to determine how to use the training set (split on movies or user?) - currently using user as movies had validation loss way below test for some reason**"
      ],
      "metadata": {
        "id": "QeSrubQQUE0O"
      }
    },
    {
      "cell_type": "markdown",
      "metadata": {
        "id": "JWUVa6nu87fn"
      },
      "source": [
        "## Imports and config"
      ]
    },
    {
      "cell_type": "code",
      "execution_count": null,
      "metadata": {
        "id": "f0BtLyEd87fo"
      },
      "outputs": [],
      "source": [
        "from pathlib import Path\n",
        "\n",
        "import matplotlib.pyplot as plt\n",
        "import numpy as np\n",
        "import pandas as pd\n",
        "import torch\n",
        "import torch.nn as nn\n",
        "import torch.optim as optim\n",
        "from torch.utils.data import TensorDataset, DataLoader\n",
        "from tqdm import tqdm\n",
        "import random\n",
        "from sklearn.metrics import precision_recall_fscore_support\n",
        "import matplotlib.pyplot as plt\n"
      ]
    },
    {
      "cell_type": "code",
      "execution_count": null,
      "metadata": {
        "id": "ifUUMiPo87fs"
      },
      "outputs": [],
      "source": [
        "# Setting random seeds\n",
        "\n",
        "RANDOM_SEED = 3819969\n",
        "\n",
        "torch.manual_seed(RANDOM_SEED)\n",
        "random.seed(RANDOM_SEED)\n",
        "np.random.seed(RANDOM_SEED)"
      ]
    },
    {
      "cell_type": "markdown",
      "source": [
        "### Configuring Google Drive"
      ],
      "metadata": {
        "id": "xiOA2DDK-8IR"
      }
    },
    {
      "cell_type": "code",
      "source": [
        "from google.colab import drive\n",
        "drive.mount('/content/drive')"
      ],
      "metadata": {
        "colab": {
          "base_uri": "https://localhost:8080/"
        },
        "id": "-zMd1-vI-rD2",
        "outputId": "da36b01b-9220-4840-eed1-d064c3c09aa8"
      },
      "execution_count": null,
      "outputs": [
        {
          "output_type": "stream",
          "name": "stdout",
          "text": [
            "Mounted at /content/drive\n"
          ]
        }
      ]
    },
    {
      "cell_type": "code",
      "source": [
        "cd drive/MyDrive/CS5814/HW3/Q2/"
      ],
      "metadata": {
        "colab": {
          "base_uri": "https://localhost:8080/"
        },
        "id": "hUjqIAoo-xg_",
        "outputId": "9a94bc23-f3cc-4b94-d312-5813e1a1e378"
      },
      "execution_count": null,
      "outputs": [
        {
          "output_type": "stream",
          "name": "stdout",
          "text": [
            "/content/drive/MyDrive/CS5814/HW3/Q2\n"
          ]
        }
      ]
    },
    {
      "cell_type": "code",
      "execution_count": null,
      "metadata": {
        "colab": {
          "base_uri": "https://localhost:8080/"
        },
        "id": "orkksw_287ft",
        "outputId": "3bb5939e-cf54-45a5-c8f9-6401ac1e7a8b"
      },
      "outputs": [
        {
          "output_type": "stream",
          "name": "stdout",
          "text": [
            "cuda:0\n"
          ]
        }
      ],
      "source": [
        "# Checking GPU configuration\n",
        "device = torch.device(\"cuda:0\" if torch.cuda.is_available() else \"cpu\")\n",
        "print(device)"
      ]
    },
    {
      "cell_type": "markdown",
      "metadata": {
        "id": "ycLX_-5m87fv"
      },
      "source": [
        "## Data preprocessing functions"
      ]
    },
    {
      "cell_type": "code",
      "execution_count": null,
      "metadata": {
        "id": "cAHUhdsX87fy"
      },
      "outputs": [],
      "source": [
        "def read_data(file_loc):\n",
        "    \"\"\"\n",
        "    Extacting data from provided CSVs\n",
        "    \"\"\"\n",
        "\n",
        "    # TODO - change name of ratings to all (as it contains all the users)\n",
        "    \n",
        "    u_cols = ['user_id', 'age', 'sex', 'occupation', 'zip_code']\n",
        "    users = pd.read_csv('{}/u.user'.format(file_loc), sep=\"|\", names=u_cols, encoding='latin-1')\n",
        "\n",
        "    r_cols = ['user_id', 'movie_id', 'rating', 'unix_timestamp']\n",
        "    ratings = pd.read_csv('{}/u.data'.format(file_loc), sep='\\t', names=r_cols, encoding='latin-1')\n",
        "\n",
        "    i_cols = ['movie id', 'movie title', 'release date', 'video release date', 'IMDb URL', 'unknown', 'Action',\n",
        "              'Adventure',\n",
        "              'Animation', 'Children\\'s', 'Comedy', 'Crime', 'Documentary', 'Drama', 'Fantasy', 'Film-Noir',\n",
        "              'Horror', 'Musical', 'Mystery', 'Romance', 'Sci-Fi', 'Thriller', 'War', 'Western']\n",
        "    items = pd.read_csv('{}/u.item'.format(file_loc), sep='|', names=i_cols, encoding='latin-1')\n",
        "\n",
        "    train = pd.read_csv('{}/u1.base'.format(file_loc), sep='\\t', names=r_cols, encoding='latin-1')\n",
        "    test = pd.read_csv('{}/u1.test'.format(file_loc), sep='\\t', names=r_cols, encoding='latin-1')\n",
        "\n",
        "    return users, ratings, items, train, test"
      ]
    },
    {
      "cell_type": "code",
      "source": [
        "def generate_user_vectors(data, save=True):\n",
        "    \"\"\"\n",
        "    Creates a vector of length # total movies\n",
        "    elements = 1 if the user has watched or 0 if not\n",
        "    \"\"\"\n",
        "\n",
        "    # TODO - think this needs to be changed based on most recent piazza post!\n",
        "    # Currently working without a test set\n",
        "\n",
        "    users, all, items, train, test = data  # Unpacking\n",
        "\n",
        "    movie_count = items.shape[0]\n",
        "\n",
        "    user_vectors_train = []\n",
        "    user_vectors_test = []\n",
        "    user_vectors_all = []\n",
        "\n",
        "\n",
        "    for user_id in tqdm(list(users['user_id'])):\n",
        "        # user_movies = sorted_users.query('user_id=={}'.format(user_id))['movie_id']\n",
        "        # one_hot_user_movies = [int(i in list(user_movies)) for i in range(1, movie_count + 1)]\n",
        "\n",
        "        user_movies_train = train.query('user_id=={}'.format(user_id))['movie_id']\n",
        "        one_hot_user_movies_train = [int(i in list(user_movies_train)) for i in range(1, movie_count + 1)]\n",
        "\n",
        "        user_movies_test = test.query('user_id=={}'.format(user_id))['movie_id']\n",
        "        one_hot_user_movies_test = [int(i in list(user_movies_test)) for i in range(1, movie_count + 1)]\n",
        "\n",
        "        user_movies_all = all.query('user_id=={}'.format(user_id))['movie_id']\n",
        "        one_hot_user_movies_all = [int(i in list(user_movies_test)) for i in range(1, movie_count + 1)]\n",
        "\n",
        "        user_vectors_train.append(one_hot_user_movies_train)\n",
        "        user_vectors_test.append(one_hot_user_movies_test)\n",
        "        user_vectors_all.append(one_hot_user_movies_all)\n",
        "\n",
        "    # Convert resultant lists into numpy arrays for saving\n",
        "    np_user_vectors_train = np.array(user_vectors_train)\n",
        "    np_user_vectors_test = np.array(user_vectors_test)\n",
        "    np_user_vectors_all = np.array(user_vectors_all)\n",
        "\n",
        "\n",
        "    if save:\n",
        "        np.save('q2_np_user_vectors_train', np_user_vectors_train)\n",
        "        np.save('q2_np_user_vectors_test', np_user_vectors_test)\n",
        "        np.save('q2_np_user_vectors_all', np_user_vectors_all)\n",
        "\n",
        "    return np_user_vectors_train, np_user_vectors_test, np_user_vectors_all"
      ],
      "metadata": {
        "id": "O8317PIs_3U2"
      },
      "execution_count": null,
      "outputs": []
    },
    {
      "cell_type": "code",
      "source": [
        "def generate_data_loader(data, batch_size, shuffle):\n",
        "    \"\"\"\n",
        "    Converts a given dataset into a data loader (inputs=outputs)\n",
        "    \"\"\"\n",
        "\n",
        "    # Input and outputs are the same (Auto encoder)\n",
        "    tensor_x = torch.Tensor(data)  # transform to torch tensor\n",
        "    tensor_y = torch.Tensor(data)\n",
        "\n",
        "    dataset = TensorDataset(tensor_x, tensor_y)  # create dataset\n",
        "    dataloader = DataLoader(dataset, batch_size=batch_size, shuffle=shuffle)  # create dataloader\n",
        "\n",
        "    return dataloader\n"
      ],
      "metadata": {
        "id": "Hokho8RlAqnN"
      },
      "execution_count": null,
      "outputs": []
    },
    {
      "cell_type": "markdown",
      "source": [
        "## AutoEncoder Definition"
      ],
      "metadata": {
        "id": "Ti5f6wf342nQ"
      }
    },
    {
      "cell_type": "code",
      "source": [
        "class AutoEncoder(nn.Module):\n",
        "    def __init__(self, channels):\n",
        "        super().__init__()\n",
        "\n",
        "        # Activation functions\n",
        "        a = nn.LeakyReLU(0.2)\n",
        "        output_a = nn.Sigmoid()\n",
        "\n",
        "        # Layer definitions\n",
        "        l1 = nn.Linear(channels, 512)\n",
        "        l2 = nn.Linear(512, 256)\n",
        "        l3 = nn.Linear(256, 32)\n",
        "        l4 = nn.Linear(32, 256)\n",
        "        l5 = nn.Linear(256, 512)\n",
        "        l6 = nn.Linear(512, channels)\n",
        "\n",
        "        # Collation of network layers into AutoEncoder\n",
        "        layers = [l1, a, l2, a, l3, a, l4, a, l5, a, l6, output_a]\n",
        "\n",
        "        self.module_list = nn.ModuleList(layers)\n",
        "\n",
        "    def forward(self, x):\n",
        "        for f in self.module_list:\n",
        "            x = f(x)\n",
        "        return x\n"
      ],
      "metadata": {
        "id": "n0REHXqd_5WZ"
      },
      "execution_count": null,
      "outputs": []
    },
    {
      "cell_type": "markdown",
      "source": [
        "## Training loop function"
      ],
      "metadata": {
        "id": "qQuEBdxj461g"
      }
    },
    {
      "cell_type": "code",
      "source": [
        "def train(model, num_epochs, train_dl, val_dl):\n",
        "    \"\"\"\n",
        "    Main training loop for auto encoder\n",
        "    Validating on every epoch due to low training times\n",
        "\n",
        "    Returns: model, training_loss_array, validation_loss_array\n",
        "    \"\"\"\n",
        "\n",
        "\n",
        "    # Tracking arrays\n",
        "    loss_hist_train = [0] * num_epochs\n",
        "    accuracy_hist_train = [0] * num_epochs\n",
        "    loss_hist_valid = [0] * num_epochs\n",
        "    accuracy_hist_valid = [0] * num_epochs\n",
        "\n",
        "    # Configuring model\n",
        "    model = model.to(device)\n",
        "    criterion = nn.BCELoss()\n",
        "    optimizer = optim.Adam(model.parameters(), lr=0.001)\n",
        "\n",
        "    p_list = []\n",
        "    r_list = []\n",
        "\n",
        "    for epoch in range(num_epochs):\n",
        "\n",
        "        # Training\n",
        "        model.train()\n",
        "        for i, data in enumerate(train_dl):\n",
        "            x_batch, y_batch = data[0].to(device), data[1].to(device)\n",
        "\n",
        "            optimizer.zero_grad()\n",
        "            \n",
        "            # Forward pass\n",
        "            pred = model.forward(x_batch)\n",
        "            loss = criterion(pred, y_batch)\n",
        "            \n",
        "            # Backward pass\n",
        "            loss.backward()\n",
        "            optimizer.step()\n",
        "            \n",
        "            # Tracking\n",
        "            loss_hist_train[epoch] += loss.item()\n",
        "\n",
        "        # Normalizing across training set\n",
        "        loss_hist_train[epoch] /= (i + 1)\n",
        "\n",
        "        # Validation\n",
        "        model.eval()\n",
        "        for j, data in enumerate(val_dl):\n",
        "            x_batch, y_batch = data[0].to(device), data[1].to(device)\n",
        "\n",
        "            pred = model.forward(x_batch)\n",
        "            loss = criterion(pred, y_batch)\n",
        "            loss_hist_valid[epoch] += loss.item()\n",
        "\n",
        "        # Averaging across validation set\n",
        "        loss_hist_valid[epoch] /= (j + 1)\n",
        "\n",
        "        # Calulating validation metrics\n",
        "        p, r = precision_recall(model, val_dl)\n",
        "        p_list.append(p)\n",
        "        r_list.append(r)\n",
        "        # Outputting results\n",
        "        print(\"Epoch: {}, Train_Loss: {:.4f}, Val_Loss: {:.4f}, Precision: {:.4f}, Recall: {:.4f}\".format(epoch,\n",
        "                                                                                              loss_hist_train[epoch],\n",
        "                                                                                              loss_hist_valid[epoch],\n",
        "                                                                                              p, r))\n",
        "\n",
        "    return model, loss_hist_train, loss_hist_valid, p_list, r_list\n"
      ],
      "metadata": {
        "id": "3SezfqiQ_8j7"
      },
      "execution_count": null,
      "outputs": []
    },
    {
      "cell_type": "markdown",
      "source": [
        "## Post processing functions"
      ],
      "metadata": {
        "id": "we2Vl3JC5Eb6"
      }
    },
    {
      "cell_type": "code",
      "source": [
        "def recommendations(model, user_data, count=10):\n",
        "    \"\"\"\n",
        "    Determines recomendations based on movies that all users have watched\n",
        "    Ranks the auto encoders outputs, after subtracting watched movies\n",
        "\n",
        "    Returns: recomendation_list: 2D list of ordered movie ids for each user\n",
        "             recomendation_raiting_list: associated autoencoder output for\n",
        "                                           each movie in recomendation_list\n",
        "\n",
        "    # TODO - this would be better done with a DataFrame/ziped vs 2 lists\n",
        "    \"\"\"\n",
        "\n",
        "\n",
        "    recomendation_list = []\n",
        "    recomendation_raiting_list = []\n",
        "\n",
        "    # Iterating through all users in user data\n",
        "    for k, data in enumerate(user_data):\n",
        "\n",
        "        # Getting predictions\n",
        "        x_batch = data[0].to(device) # this doesnt need to be on GPU\n",
        "        pred = model.forward(x_batch)\n",
        "\n",
        "        # Subtracting movies that have been watched\n",
        "        pred = pred.cpu().detach().numpy() - x_batch.cpu().detach().numpy()\n",
        "        \n",
        "        # Sorting before appending movies and probabilties\n",
        "        movie_recomendations = pred.argsort()[:, -count:][:, ::-1]\n",
        "        recomendation_list.append(list(movie_recomendations[0]))\n",
        "        recomendation_raiting_list.append(pred[0][movie_recomendations[0]])\n",
        "\n",
        "    return recomendation_list, recomendation_raiting_list"
      ],
      "metadata": {
        "id": "AdMIDR_jQUYT"
      },
      "execution_count": null,
      "outputs": []
    },
    {
      "cell_type": "code",
      "source": [
        "def precision_recall(model, user_data):\n",
        "\n",
        "    recomendation_list = []\n",
        "    recomendation_raiting_list = []\n",
        "\n",
        "    precision_list = []\n",
        "    recall_list = []\n",
        "\n",
        "    for k, data in enumerate(user_data):\n",
        "        x_batch = data[0].to(device) # TODO - this doesnt need to be on GPU\n",
        "        pred = model.forward(x_batch)\n",
        "\n",
        "        pred = pred.cpu().detach().numpy()\n",
        "        pred = (pred > 0.5).astype(int)\n",
        "        target = x_batch.cpu().detach().numpy().astype(int)\n",
        "        \n",
        "        matches = pred==target\n",
        "\n",
        "        precision, recall, f1, _ = precision_recall_fscore_support(target[0], pred[0], average='macro', zero_division=0)\n",
        "        precision_list.append(precision)\n",
        "        recall_list.append(recall)\n",
        "    return(np.average(precision_list), np.average(recall_list))\n",
        "    #print(pred, target, matches)\n",
        "    #total_matches = np.sum(matches)\n",
        "    #print(total_matches)"
      ],
      "metadata": {
        "id": "tlJ300FaEHRA"
      },
      "execution_count": null,
      "outputs": []
    },
    {
      "cell_type": "code",
      "source": [
        "def plotter(a, b, a_label, b_label, y_label = \"Loss\", window=None):\n",
        "\n",
        "  if window is not None:\n",
        "    a = moving_average(a, window)\n",
        "    b = moving_average(b, window)\n",
        "    \n",
        "  plt.plot(a, label=a_label)\n",
        "  plt.plot(b, label=b_label)\n",
        "  plt.xlabel(\"Epoch\")\n",
        "  plt.ylabel(y_label)\n",
        "  plt.legend()\n",
        "  plt.grid()\n",
        "  plt.show()"
      ],
      "metadata": {
        "id": "yd073GWgQk-8"
      },
      "execution_count": null,
      "outputs": []
    },
    {
      "cell_type": "code",
      "source": [
        "def moving_average(x, w):\n",
        "    return np.convolve(x, np.ones(w), 'valid') / w"
      ],
      "metadata": {
        "id": "F6kW3JKbasAN"
      },
      "execution_count": null,
      "outputs": []
    },
    {
      "cell_type": "markdown",
      "source": [
        "# Running model"
      ],
      "metadata": {
        "id": "uT_wJmrmFXjZ"
      }
    },
    {
      "cell_type": "code",
      "source": [
        "# Loading data if preprocessed, else generating\n",
        "load_data = True\n",
        "target_files = ['q2_np_user_vectors_train.npy',\n",
        "                'q2_np_user_vectors_test.npy',\n",
        "                'q2_np_user_vectors_all.npy']\n",
        "\n",
        "if (Path(target_files[0]).is_file() and Path(target_files[1]).is_file() and Path(target_files[2]).is_file()) and load_data:\n",
        "    np_train_vectors = np.load(\"q2_np_user_vectors_train.npy\")\n",
        "    np_test_vectors = np.load(\"q2_np_user_vectors_test.npy\")\n",
        "    np_all_vectors = np.load(\"q2_np_user_vectors_all.npy\")\n",
        "\n",
        "else:\n",
        "    np_train_vectors, np_test_vectors, np_all_vectors = generate_user_vectors(data=read_data(file_loc='datasets/ml-100k'))\n",
        "\n",
        "# Loading in files of interest\n",
        "users, ratings, items, train_data, test_data = read_data(file_loc='datasets/ml-100k') "
      ],
      "metadata": {
        "id": "OErhDBkfABlW"
      },
      "execution_count": null,
      "outputs": []
    },
    {
      "cell_type": "code",
      "source": [
        "# Splitting training data into train and val\n",
        "np.random.shuffle(np_train_vectors)\n",
        "split_id = int(0.8 * len(np_train_vectors))\n",
        "train_dataset, val_dataset = np_train_vectors[:split_id], np_train_vectors[split_id:]\n",
        "\n",
        "# Now using test set as validation\n",
        "\n",
        "# Generating data loaders\n",
        "dataloader_train = generate_data_loader(data=train_dataset,\n",
        "                                        batch_size=32,\n",
        "                                        shuffle=True)\n",
        "\n",
        "dataloader_val = generate_data_loader(data=val_dataset,\n",
        "                                      batch_size=32,\n",
        "                                      shuffle=True)\n",
        "\n",
        "# TODO - determine if you can batch these and still track the user ID (?)\n",
        "\n",
        "dataloader_test = generate_data_loader(data=np_test_vectors,\n",
        "                                        batch_size=1,\n",
        "                                        shuffle=False)\n",
        "\n",
        "dataloader_all = generate_data_loader(data=np_all_vectors,\n",
        "                                    batch_size=1,\n",
        "                                    shuffle=False)\n"
      ],
      "metadata": {
        "id": "u0uNlLYrFKZI"
      },
      "execution_count": null,
      "outputs": []
    },
    {
      "cell_type": "code",
      "source": [
        "# Defining AutoEncoder model\n",
        "model = AutoEncoder(channels=np_train_vectors.shape[1])\n",
        "\n",
        "# Training model\n",
        "model, loss_hist_train, loss_hist_valid, p_list, r_list = train(model=model,\n",
        "                                                num_epochs=50,\n",
        "                                                train_dl=dataloader_train,\n",
        "                                                val_dl=dataloader_val)"
      ],
      "metadata": {
        "colab": {
          "base_uri": "https://localhost:8080/"
        },
        "id": "FUmm9TdnFQna",
        "outputId": "fdfefc65-3b80-41c1-988a-8e335e223bae"
      },
      "execution_count": null,
      "outputs": [
        {
          "output_type": "stream",
          "name": "stdout",
          "text": [
            "Epoch: 0, Train_Loss: 0.4155, Val_Loss: 0.2242, Precision: 0.5980, Recall: 0.5440\n",
            "Epoch: 1, Train_Loss: 0.1757, Val_Loss: 0.1646, Precision: 0.4677, Recall: 0.5000\n",
            "Epoch: 2, Train_Loss: 0.1484, Val_Loss: 0.1497, Precision: 0.4851, Recall: 0.4999\n",
            "Epoch: 3, Train_Loss: 0.1372, Val_Loss: 0.1405, Precision: 0.6535, Recall: 0.5501\n",
            "Epoch: 4, Train_Loss: 0.1291, Val_Loss: 0.1343, Precision: 0.6698, Recall: 0.5956\n",
            "Epoch: 5, Train_Loss: 0.1262, Val_Loss: 0.1322, Precision: 0.7095, Recall: 0.5326\n",
            "Epoch: 6, Train_Loss: 0.1229, Val_Loss: 0.1307, Precision: 0.6297, Recall: 0.5296\n",
            "Epoch: 7, Train_Loss: 0.1212, Val_Loss: 0.1289, Precision: 0.7149, Recall: 0.5703\n",
            "Epoch: 8, Train_Loss: 0.1193, Val_Loss: 0.1277, Precision: 0.7189, Recall: 0.5572\n",
            "Epoch: 9, Train_Loss: 0.1190, Val_Loss: 0.1279, Precision: 0.6977, Recall: 0.6180\n",
            "Epoch: 10, Train_Loss: 0.1179, Val_Loss: 0.1271, Precision: 0.6682, Recall: 0.5580\n",
            "Epoch: 11, Train_Loss: 0.1173, Val_Loss: 0.1277, Precision: 0.7089, Recall: 0.6396\n",
            "Epoch: 12, Train_Loss: 0.1159, Val_Loss: 0.1279, Precision: 0.7626, Recall: 0.5863\n",
            "Epoch: 13, Train_Loss: 0.1159, Val_Loss: 0.1267, Precision: 0.7938, Recall: 0.5968\n",
            "Epoch: 14, Train_Loss: 0.1141, Val_Loss: 0.1257, Precision: 0.7688, Recall: 0.5605\n",
            "Epoch: 15, Train_Loss: 0.1127, Val_Loss: 0.1252, Precision: 0.7094, Recall: 0.6383\n",
            "Epoch: 16, Train_Loss: 0.1121, Val_Loss: 0.1243, Precision: 0.7802, Recall: 0.6035\n",
            "Epoch: 17, Train_Loss: 0.1114, Val_Loss: 0.1239, Precision: 0.6633, Recall: 0.5558\n",
            "Epoch: 18, Train_Loss: 0.1097, Val_Loss: 0.1235, Precision: 0.8522, Recall: 0.5984\n",
            "Epoch: 19, Train_Loss: 0.1090, Val_Loss: 0.1235, Precision: 0.6997, Recall: 0.6147\n",
            "Epoch: 20, Train_Loss: 0.1081, Val_Loss: 0.1240, Precision: 0.8143, Recall: 0.6104\n",
            "Epoch: 21, Train_Loss: 0.1079, Val_Loss: 0.1238, Precision: 0.8146, Recall: 0.6542\n",
            "Epoch: 22, Train_Loss: 0.1071, Val_Loss: 0.1229, Precision: 0.7063, Recall: 0.6086\n",
            "Epoch: 23, Train_Loss: 0.1055, Val_Loss: 0.1217, Precision: 0.6541, Recall: 0.5315\n",
            "Epoch: 24, Train_Loss: 0.1038, Val_Loss: 0.1219, Precision: 0.7219, Recall: 0.5641\n",
            "Epoch: 25, Train_Loss: 0.1030, Val_Loss: 0.1215, Precision: 0.6827, Recall: 0.6174\n",
            "Epoch: 26, Train_Loss: 0.1016, Val_Loss: 0.1216, Precision: 0.8211, Recall: 0.6250\n",
            "Epoch: 27, Train_Loss: 0.1014, Val_Loss: 0.1223, Precision: 0.7680, Recall: 0.6152\n",
            "Epoch: 28, Train_Loss: 0.1001, Val_Loss: 0.1211, Precision: 0.7164, Recall: 0.5971\n",
            "Epoch: 29, Train_Loss: 0.0989, Val_Loss: 0.1218, Precision: 0.7672, Recall: 0.6464\n",
            "Epoch: 30, Train_Loss: 0.0978, Val_Loss: 0.1209, Precision: 0.7885, Recall: 0.6451\n",
            "Epoch: 31, Train_Loss: 0.0968, Val_Loss: 0.1224, Precision: 0.7991, Recall: 0.6434\n",
            "Epoch: 32, Train_Loss: 0.0965, Val_Loss: 0.1230, Precision: 0.8031, Recall: 0.6738\n",
            "Epoch: 33, Train_Loss: 0.0958, Val_Loss: 0.1243, Precision: 0.6751, Recall: 0.5589\n",
            "Epoch: 34, Train_Loss: 0.0954, Val_Loss: 0.1247, Precision: 0.7000, Recall: 0.6067\n",
            "Epoch: 35, Train_Loss: 0.0978, Val_Loss: 0.1237, Precision: 0.7773, Recall: 0.6017\n",
            "Epoch: 36, Train_Loss: 0.1020, Val_Loss: 0.1268, Precision: 0.7665, Recall: 0.6651\n",
            "Epoch: 37, Train_Loss: 0.1015, Val_Loss: 0.1247, Precision: 0.7793, Recall: 0.6244\n",
            "Epoch: 38, Train_Loss: 0.0996, Val_Loss: 0.1275, Precision: 0.7379, Recall: 0.6546\n",
            "Epoch: 39, Train_Loss: 0.0979, Val_Loss: 0.1260, Precision: 0.6533, Recall: 0.5510\n",
            "Epoch: 40, Train_Loss: 0.0944, Val_Loss: 0.1247, Precision: 0.7255, Recall: 0.6190\n",
            "Epoch: 41, Train_Loss: 0.0915, Val_Loss: 0.1250, Precision: 0.7946, Recall: 0.5880\n",
            "Epoch: 42, Train_Loss: 0.0902, Val_Loss: 0.1255, Precision: 0.7196, Recall: 0.6296\n",
            "Epoch: 43, Train_Loss: 0.0887, Val_Loss: 0.1266, Precision: 0.7932, Recall: 0.6070\n",
            "Epoch: 44, Train_Loss: 0.0878, Val_Loss: 0.1280, Precision: 0.7596, Recall: 0.6428\n",
            "Epoch: 45, Train_Loss: 0.0863, Val_Loss: 0.1291, Precision: 0.7653, Recall: 0.5891\n",
            "Epoch: 46, Train_Loss: 0.0857, Val_Loss: 0.1292, Precision: 0.7277, Recall: 0.6566\n",
            "Epoch: 47, Train_Loss: 0.0851, Val_Loss: 0.1308, Precision: 0.7135, Recall: 0.6075\n",
            "Epoch: 48, Train_Loss: 0.0835, Val_Loss: 0.1313, Precision: 0.7433, Recall: 0.6524\n",
            "Epoch: 49, Train_Loss: 0.0830, Val_Loss: 0.1336, Precision: 0.8007, Recall: 0.6216\n"
          ]
        }
      ]
    },
    {
      "cell_type": "markdown",
      "source": [
        "### Generating plots"
      ],
      "metadata": {
        "id": "1Jy49dTwQiyK"
      }
    },
    {
      "cell_type": "code",
      "source": [
        "plotter(loss_hist_train, loss_hist_valid, \"Train\", \"Val\", y_label = \"Loss\")\n",
        "plotter(p_list, r_list, \"Precision\", \"Recall\", y_label = \"Metric Value\", window=5)\n"
      ],
      "metadata": {
        "colab": {
          "base_uri": "https://localhost:8080/",
          "height": 541
        },
        "id": "TgKhUzavQia_",
        "outputId": "a97265f5-8ac4-4338-cd28-e5e2f1b7a0b8"
      },
      "execution_count": null,
      "outputs": [
        {
          "output_type": "display_data",
          "data": {
            "text/plain": [
              "<Figure size 432x288 with 1 Axes>"
            ],
            "image/png": "[encoded data removed]"
          },
          "metadata": {
            "needs_background": "light"
          }
        },
        {
          "output_type": "display_data",
          "data": {
            "text/plain": [
              "<Figure size 432x288 with 1 Axes>"
            ],
            "image/png": "[encoded data removed]"
          },
          "metadata": {
            "needs_background": "light"
          }
        }
      ]
    },
    {
      "cell_type": "markdown",
      "source": [
        " Training loss is measured during each epoch while validation loss is measured after each epoch, which can explain the initally lower validation loss.\n",
        "\n",
        " Clear that around 30th epoch over fitting is starting."
      ],
      "metadata": {
        "id": "tJhKBmGmT5Sv"
      }
    },
    {
      "cell_type": "markdown",
      "source": [
        "## Retraining model after epoch count identified"
      ],
      "metadata": {
        "id": "wdC-8dChVI0P"
      }
    },
    {
      "cell_type": "code",
      "source": [
        "# Defining AutoEncoder model\n",
        "model = AutoEncoder(channels=np_train_vectors.shape[1])\n",
        "\n",
        "# Training model\n",
        "model, loss_hist_train, loss_hist_valid, p_list, r_list = train(model=model,\n",
        "                                                num_epochs=30,\n",
        "                                                train_dl=dataloader_train,\n",
        "                                                val_dl=dataloader_val)"
      ],
      "metadata": {
        "colab": {
          "base_uri": "https://localhost:8080/"
        },
        "id": "HweYt6OkVPZc",
        "outputId": "b2d946d2-8741-4f71-ca7a-b57325db917b"
      },
      "execution_count": null,
      "outputs": [
        {
          "output_type": "stream",
          "name": "stdout",
          "text": [
            "Epoch: 0, Train_Loss: 0.3951, Val_Loss: 0.2122, Precision: 0.6630, Recall: 0.5499\n",
            "Epoch: 1, Train_Loss: 0.1652, Val_Loss: 0.1548, Precision: 0.5610, Recall: 0.5008\n",
            "Epoch: 2, Train_Loss: 0.1422, Val_Loss: 0.1448, Precision: 0.6365, Recall: 0.5285\n",
            "Epoch: 3, Train_Loss: 0.1339, Val_Loss: 0.1363, Precision: 0.7297, Recall: 0.5638\n",
            "Epoch: 4, Train_Loss: 0.1268, Val_Loss: 0.1324, Precision: 0.7363, Recall: 0.5397\n",
            "Epoch: 5, Train_Loss: 0.1240, Val_Loss: 0.1311, Precision: 0.6336, Recall: 0.5690\n",
            "Epoch: 6, Train_Loss: 0.1222, Val_Loss: 0.1296, Precision: 0.8404, Recall: 0.5797\n",
            "Epoch: 7, Train_Loss: 0.1212, Val_Loss: 0.1301, Precision: 0.7514, Recall: 0.5467\n",
            "Epoch: 8, Train_Loss: 0.1215, Val_Loss: 0.1287, Precision: 0.7487, Recall: 0.5581\n",
            "Epoch: 9, Train_Loss: 0.1186, Val_Loss: 0.1271, Precision: 0.6235, Recall: 0.5149\n",
            "Epoch: 10, Train_Loss: 0.1174, Val_Loss: 0.1267, Precision: 0.6701, Recall: 0.5635\n",
            "Epoch: 11, Train_Loss: 0.1162, Val_Loss: 0.1263, Precision: 0.7127, Recall: 0.5487\n",
            "Epoch: 12, Train_Loss: 0.1153, Val_Loss: 0.1258, Precision: 0.7718, Recall: 0.5636\n",
            "Epoch: 13, Train_Loss: 0.1141, Val_Loss: 0.1252, Precision: 0.6719, Recall: 0.6012\n",
            "Epoch: 14, Train_Loss: 0.1127, Val_Loss: 0.1251, Precision: 0.7166, Recall: 0.5835\n",
            "Epoch: 15, Train_Loss: 0.1124, Val_Loss: 0.1245, Precision: 0.6416, Recall: 0.5473\n",
            "Epoch: 16, Train_Loss: 0.1112, Val_Loss: 0.1234, Precision: 0.7895, Recall: 0.5671\n",
            "Epoch: 17, Train_Loss: 0.1104, Val_Loss: 0.1231, Precision: 0.6027, Recall: 0.5606\n",
            "Epoch: 18, Train_Loss: 0.1089, Val_Loss: 0.1220, Precision: 0.7652, Recall: 0.5759\n",
            "Epoch: 19, Train_Loss: 0.1080, Val_Loss: 0.1221, Precision: 0.6320, Recall: 0.5583\n",
            "Epoch: 20, Train_Loss: 0.1067, Val_Loss: 0.1214, Precision: 0.7576, Recall: 0.6068\n",
            "Epoch: 21, Train_Loss: 0.1062, Val_Loss: 0.1221, Precision: 0.7128, Recall: 0.6424\n",
            "Epoch: 22, Train_Loss: 0.1042, Val_Loss: 0.1211, Precision: 0.7472, Recall: 0.6237\n",
            "Epoch: 23, Train_Loss: 0.1030, Val_Loss: 0.1208, Precision: 0.7751, Recall: 0.5687\n",
            "Epoch: 24, Train_Loss: 0.1025, Val_Loss: 0.1207, Precision: 0.7856, Recall: 0.6047\n",
            "Epoch: 25, Train_Loss: 0.1018, Val_Loss: 0.1204, Precision: 0.7911, Recall: 0.5827\n",
            "Epoch: 26, Train_Loss: 0.1010, Val_Loss: 0.1206, Precision: 0.6774, Recall: 0.5832\n",
            "Epoch: 27, Train_Loss: 0.0998, Val_Loss: 0.1229, Precision: 0.7350, Recall: 0.5905\n",
            "Epoch: 28, Train_Loss: 0.0995, Val_Loss: 0.1213, Precision: 0.8163, Recall: 0.6046\n",
            "Epoch: 29, Train_Loss: 0.0983, Val_Loss: 0.1210, Precision: 0.7495, Recall: 0.6403\n"
          ]
        }
      ]
    },
    {
      "cell_type": "code",
      "source": [
        "plotter(loss_hist_train, loss_hist_valid, \"Train\", \"Val\", y_label = \"Loss\")\n",
        "plotter(p_list, r_list, \"Precision\", \"Recall\", y_label = \"Metric Value\", window=3)"
      ],
      "metadata": {
        "colab": {
          "base_uri": "https://localhost:8080/",
          "height": 541
        },
        "id": "aUAbCdkeVdu4",
        "outputId": "07ef79ee-cd1f-4409-ba47-e0a83e2e591c"
      },
      "execution_count": null,
      "outputs": [
        {
          "output_type": "display_data",
          "data": {
            "text/plain": [
              "<Figure size 432x288 with 1 Axes>"
            ],
            "image/png": "[encoded data removed]"
          },
          "metadata": {
            "needs_background": "light"
          }
        },
        {
          "output_type": "display_data",
          "data": {
            "text/plain": [
              "<Figure size 432x288 with 1 Axes>"
            ],
            "image/png": "[encoded data removed]"
          },
          "metadata": {
            "needs_background": "light"
          }
        }
      ]
    },
    {
      "cell_type": "markdown",
      "source": [
        "### Generating recomendations"
      ],
      "metadata": {
        "id": "QGo6HiRbQT8N"
      }
    },
    {
      "cell_type": "code",
      "source": [
        "movie_recomendations, movie_raitings = recommendations(model,\n",
        "                                        dataloader_all,\n",
        "                                        count=10)"
      ],
      "metadata": {
        "id": "Yg-JBMMcAQ4P"
      },
      "execution_count": null,
      "outputs": []
    },
    {
      "cell_type": "code",
      "source": [
        "users_to_print = [25, 255]\n",
        "movie_names = []\n",
        "for user_movie_recomendations in movie_recomendations:\n",
        "    movie_names.append(list(items[(items['movie id']-1).isin(user_movie_recomendations)]['movie title']))\n",
        "\n",
        "\n",
        "with open(\"pred_autoencoder.txt\", \"w\") as file:\n",
        "  for i, user_id in enumerate(range(users.shape[0])):\n",
        "\n",
        "    output = '\\nUser {} top {} recomendations:\\n'.format(user_id+1, 10)\n",
        "    file.write(output)\n",
        "\n",
        "    if (i+1) in users_to_print:\n",
        "      print(output)\n",
        "\n",
        "    for movie_index, movie in enumerate(movie_names[user_id]):\n",
        "      output = \"Raiting: {1:.4f}   Title: {0}\\n\".format(movie, movie_raitings[user_id][movie_index])\n",
        "      file.write(output)\n",
        "      if (i+1) in users_to_print:\n",
        "          print(output)"
      ],
      "metadata": {
        "colab": {
          "base_uri": "https://localhost:8080/"
        },
        "id": "z7-hHG9tFVRe",
        "outputId": "310af88e-1c44-4989-b337-296d042008ac"
      },
      "execution_count": null,
      "outputs": [
        {
          "output_type": "stream",
          "name": "stdout",
          "text": [
            "\n",
            "User 25 top 10 recomendations:\n",
            "\n",
            "Raiting: 0.4835   Title: Toy Story (1995)\n",
            "\n",
            "Raiting: 0.4614   Title: Silence of the Lambs, The (1991)\n",
            "\n",
            "Raiting: 0.4445   Title: Fargo (1996)\n",
            "\n",
            "Raiting: 0.4287   Title: Monty Python and the Holy Grail (1974)\n",
            "\n",
            "Raiting: 0.4210   Title: Princess Bride, The (1987)\n",
            "\n",
            "Raiting: 0.4008   Title: Amadeus (1984)\n",
            "\n",
            "Raiting: 0.3758   Title: Sting, The (1973)\n",
            "\n",
            "Raiting: 0.3705   Title: Back to the Future (1985)\n",
            "\n",
            "Raiting: 0.3588   Title: Schindler's List (1993)\n",
            "\n",
            "Raiting: 0.3540   Title: Casablanca (1942)\n",
            "\n",
            "\n",
            "User 255 top 10 recomendations:\n",
            "\n",
            "Raiting: 0.6718   Title: Copycat (1995)\n",
            "\n",
            "Raiting: 0.5737   Title: Pulp Fiction (1994)\n",
            "\n",
            "Raiting: 0.5689   Title: Lawnmower Man, The (1992)\n",
            "\n",
            "Raiting: 0.5402   Title: Shining, The (1980)\n",
            "\n",
            "Raiting: 0.5304   Title: Nightmare on Elm Street, A (1984)\n",
            "\n",
            "Raiting: 0.5197   Title: Carrie (1976)\n",
            "\n",
            "Raiting: 0.5117   Title: Interview with the Vampire (1994)\n",
            "\n",
            "Raiting: 0.5044   Title: Wes Craven's New Nightmare (1994)\n",
            "\n",
            "Raiting: 0.4911   Title: Candyman (1992)\n",
            "\n",
            "Raiting: 0.4893   Title: Congo (1995)\n",
            "\n"
          ]
        }
      ]
    },
    {
      "cell_type": "markdown",
      "source": [
        "### Calculating precision and recall"
      ],
      "metadata": {
        "id": "ySF8talEQXXy"
      }
    },
    {
      "cell_type": "code",
      "source": [
        "precision_avg, recall_avg = precision_recall(model, dataloader_all)\n",
        "\n",
        "print(\"Using all data\")\n",
        "print(\"Precision avg: {:.4f}, Recall avg: {:.4f}\".format(precision_avg, recall_avg))"
      ],
      "metadata": {
        "colab": {
          "base_uri": "https://localhost:8080/"
        },
        "id": "Kit4sPgaQzTM",
        "outputId": "898f8e99-3052-4420-b218-e8558a43a75b"
      },
      "execution_count": null,
      "outputs": [
        {
          "output_type": "stream",
          "name": "stdout",
          "text": [
            "Using all data\n",
            "Precision avg: 0.7946, Recall avg: 0.7641\n"
          ]
        }
      ]
    }
  ],
  "metadata": {
    "kernelspec": {
      "display_name": "Python 3",
      "name": "python3"
    },
    "language_info": {
      "name": "python"
    },
    "colab": {
      "name": "HW3_Q2_SamDonald.ipynb",
      "provenance": [],
      "collapsed_sections": []
    },
    "accelerator": "GPU"
  },
  "nbformat": 4,
  "nbformat_minor": 0
}