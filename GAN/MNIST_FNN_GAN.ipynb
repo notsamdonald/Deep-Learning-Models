{
  "nbformat": 4,
  "nbformat_minor": 0,
  "metadata": {
    "colab": {
      "name": "HW3_Q4_SamDonald.ipynb",
      "provenance": [],
      "collapsed_sections": [],
      "machine_shape": "hm"
    },
    "kernelspec": {
      "name": "python3",
      "display_name": "Python 3"
    },
    "language_info": {
      "name": "python"
    },
    "accelerator": "GPU"
  },
  "cells": [
    {
      "cell_type": "markdown",
      "source": [
        "# CS5814: Assignment 3\n",
        "\n",
        "## Problem 4"
      ],
      "metadata": {
        "id": "JojvrdEiZhWf"
      }
    },
    {
      "cell_type": "markdown",
      "source": [
        "This problem involves creating a generative adversarial network is to replicate digits from the MNIST dataset.\n",
        "\n",
        "Two different configurations are tested, both based on a simple FNN architecture for the generator and discriminator."
      ],
      "metadata": {
        "id": "oMLVZPDlZmAP"
      }
    },
    {
      "cell_type": "markdown",
      "source": [
        "## Imports and config"
      ],
      "metadata": {
        "id": "bMnA4BncZqEg"
      }
    },
    {
      "cell_type": "code",
      "execution_count": null,
      "metadata": {
        "id": "jsxMZvbCI74s"
      },
      "outputs": [],
      "source": [
        "import torch\n",
        "import torch.nn as nn\n",
        "import torch.optim as optim\n",
        "import torch.utils.data as data_utils\n",
        "from torchvision import transforms, datasets\n",
        "from torchvision.utils import make_grid, save_image\n",
        "from tqdm import tqdm\n",
        "import matplotlib.pyplot as plt\n",
        "import matplotlib.gridspec as gridspec\n",
        "import numpy as np\n",
        "import random\n",
        "from sklearn.metrics import precision_recall_fscore_support\n",
        "from sklearn.metrics import confusion_matrix\n",
        "from sklearn.metrics import accuracy_score"
      ]
    },
    {
      "cell_type": "code",
      "source": [
        "device = torch.device('cuda' if torch.cuda.is_available() else 'cpu')\n",
        "print(device)"
      ],
      "metadata": {
        "id": "QFMf9fMbPahL",
        "colab": {
          "base_uri": "https://localhost:8080/"
        },
        "outputId": "145550b2-acad-4a12-df40-0ad236a7a41f"
      },
      "execution_count": null,
      "outputs": [
        {
          "output_type": "stream",
          "name": "stdout",
          "text": [
            "cuda\n"
          ]
        }
      ]
    },
    {
      "cell_type": "markdown",
      "source": [
        "## Configure Google Drive"
      ],
      "metadata": {
        "id": "7loROgxhgs6o"
      }
    },
    {
      "cell_type": "code",
      "source": [
        "from google.colab import drive\n",
        "drive.mount('/content/drive')"
      ],
      "metadata": {
        "id": "sY1OoAeVg0QY",
        "colab": {
          "base_uri": "https://localhost:8080/"
        },
        "outputId": "a63cd952-8dc1-42b3-dee4-419d465ad548"
      },
      "execution_count": null,
      "outputs": [
        {
          "output_type": "stream",
          "name": "stdout",
          "text": [
            "Mounted at /content/drive\n"
          ]
        }
      ]
    },
    {
      "cell_type": "code",
      "source": [
        "%cd drive/My Drive/CS5814/HW3/Q4"
      ],
      "metadata": {
        "id": "05vNA0A_g1w8",
        "colab": {
          "base_uri": "https://localhost:8080/"
        },
        "outputId": "94e7db71-c89a-4cd8-ad6d-2e4d81a40aa4"
      },
      "execution_count": null,
      "outputs": [
        {
          "output_type": "stream",
          "name": "stdout",
          "text": [
            "/content/drive/My Drive/CS5814/HW3/Q4\n"
          ]
        }
      ]
    },
    {
      "cell_type": "code",
      "source": [
        "dir = \"GAN_images_2\""
      ],
      "metadata": {
        "id": "YYotGXf17sn5"
      },
      "execution_count": null,
      "outputs": []
    },
    {
      "cell_type": "code",
      "source": [
        "!mkdir GAN_images_2"
      ],
      "metadata": {
        "colab": {
          "base_uri": "https://localhost:8080/"
        },
        "id": "tpkEJgmGJAjE",
        "outputId": "90c6fbe4-366c-4ff0-da14-fe3e12051a72"
      },
      "execution_count": null,
      "outputs": [
        {
          "output_type": "stream",
          "name": "stdout",
          "text": [
            "mkdir: cannot create directory ‘GAN_images_2’: File exists\n"
          ]
        }
      ]
    },
    {
      "cell_type": "markdown",
      "source": [
        "## MNIST Dataset download and configuration"
      ],
      "metadata": {
        "id": "O6OVtR7vtc3P"
      }
    },
    {
      "cell_type": "code",
      "source": [
        "batch_size = 512\n",
        "\n",
        "transform = transforms.Compose([transforms.ToTensor(), #])\n",
        "                               transforms.Normalize((0.5,), (0.5,))]) # for normalzing between -1,1])\n",
        "\n",
        "# Loading data\n",
        "MNIST_data_train = datasets.MNIST(\"\", train=True, download=True,transform=transform)\n",
        "MNIST_data_test = datasets.MNIST(\"\", train=False, download=True,transform=transform)\n"
      ],
      "metadata": {
        "id": "OioaGrixPedi"
      },
      "execution_count": null,
      "outputs": []
    },
    {
      "cell_type": "markdown",
      "source": [
        "# GAN Model Definition\n",
        "## Generator"
      ],
      "metadata": {
        "id": "Bp8vshJAtkY5"
      }
    },
    {
      "cell_type": "code",
      "source": [
        "class Generator(nn.Module):\n",
        "    def __init__(self, input_width=10,\n",
        "                 lw=(784, 784, 784),\n",
        "                 dropout_r=0,\n",
        "                 activation_r=0.2,\n",
        "                 output_a=\"Tanh\"):\n",
        "        super().__init__()\n",
        "\n",
        "        # Activiation functions\n",
        "        # Note this is directly related to the transform used on the dataset\n",
        "        #   as they need to match for the current plotting config\n",
        "        a = nn.LeakyReLU(activation_r)\n",
        "\n",
        "        if output_a == \"Sigmoid\":\n",
        "          output_act = nn.Sigmoid()  \n",
        "        elif output_a == \"Tanh\":\n",
        "          output_act = nn.Tanh()\n",
        "\n",
        "        # Dropout\n",
        "        d = nn.Dropout(dropout_r)\n",
        "\n",
        "        # Layer definitions\n",
        "        self.input_dim = input_width\n",
        "        l1 = nn.Linear(self.input_dim, lw[0])\n",
        "        l2 = nn.Linear(lw[0], lw[1])\n",
        "        l3 = nn.Linear(lw[1], lw[2])\n",
        "        l4 = nn.Linear(lw[2], 784)\n",
        "        \n",
        "        layers = [l1, a, d, l2, a, d, l3, a, d, l4, output_act]\n",
        "\n",
        "        self.module_list = nn.ModuleList(layers)\n",
        "\n",
        "    def forward(self, x):\n",
        "        for f in self.module_list:\n",
        "            x = f(x)\n",
        "\n",
        "        x = x.view(-1,1,28,28)\n",
        "        return x"
      ],
      "metadata": {
        "id": "CclXVl7yJPMI"
      },
      "execution_count": null,
      "outputs": []
    },
    {
      "cell_type": "markdown",
      "source": [
        "## Discriminator"
      ],
      "metadata": {
        "id": "7zk3NqeLtrps"
      }
    },
    {
      "cell_type": "code",
      "source": [
        "class Discriminator(nn.Module):\n",
        "    def __init__(self, input_width=784, \n",
        "                 lw=(784, 784, 784),\n",
        "                 dropout_r=0,\n",
        "                 activation_r=0.2,\n",
        "                 output_a=\"Sigmoid\"):\n",
        "        super().__init__()\n",
        "\n",
        "        # Activiation functions\n",
        "        # Note this is directly related to the transform used on the dataset\n",
        "        a = nn.LeakyReLU(activation_r)\n",
        "        output_act = nn.Sigmoid()  \n",
        "\n",
        "\n",
        "        # Dropout\n",
        "        d = nn.Dropout(dropout_r)\n",
        "\n",
        "        # Layer definitions\n",
        "        self.input_dim = input_width\n",
        "        l1 = nn.Linear(self.input_dim, lw[0])\n",
        "        l2 = nn.Linear(lw[0], lw[1])\n",
        "        l3 = nn.Linear(lw[1], lw[2])\n",
        "        l4 = nn.Linear(lw[2], 1)\n",
        "\n",
        "        layers = [l1, a, d, l2, a, d, l3, a, d, l4, output_act]\n",
        "\n",
        "        self.module_list = nn.ModuleList(layers)\n",
        "\n",
        "    def forward(self, x):\n",
        "        x = x.view(-1, self.input_dim)\n",
        "        for f in self.module_list:\n",
        "            x = f(x)\n",
        "        return x"
      ],
      "metadata": {
        "id": "0dsZtxcOJSxE"
      },
      "execution_count": null,
      "outputs": []
    },
    {
      "cell_type": "markdown",
      "source": [
        "## Supporting functions"
      ],
      "metadata": {
        "id": "Ir-bwX360b_r"
      }
    },
    {
      "cell_type": "code",
      "source": [
        "def generate_noise(sample_size, noise_size):\n",
        "    return torch.randn(sample_size, noise_size).to(device)"
      ],
      "metadata": {
        "id": "FatvuvjZQXLR"
      },
      "execution_count": null,
      "outputs": []
    },
    {
      "cell_type": "code",
      "source": [
        "def patcher(img, epoch):\n",
        "    \"\"\"\n",
        "    Hack to patch tensors into single image, plot and save.\n",
        "    \"\"\"\n",
        "\n",
        "    imgs = torch.reshape(img,(-1,28,28))\n",
        "    rows = []\n",
        "    w = 8\n",
        "\n",
        "    for row_id in range(w):\n",
        "        row = imgs[w * row_id]\n",
        "        for col_id in range(1,w):\n",
        "            row = torch.hstack((row, imgs[row_id*w+col_id]))\n",
        "        rows.append(row)\n",
        "\n",
        "    output_img = rows[0]\n",
        "    for row_id in range(1,w):\n",
        "        output_img = torch.vstack((output_img, rows[row_id]))\n",
        "\n",
        "    plt.imshow(output_img,cmap='gray')\n",
        "    plt.axis('off')\n",
        "    plt.savefig(\"{}/epoch_{}.png\".format(dir, str(epoch).zfill(3)),\n",
        "                bbox_inches='tight',\n",
        "                dpi=600)\n",
        "    \n",
        "    plt.clf()"
      ],
      "metadata": {
        "id": "R3zB9zdHd1Wz"
      },
      "execution_count": null,
      "outputs": []
    },
    {
      "cell_type": "markdown",
      "source": [
        "## Training subloops\n",
        "### Generator"
      ],
      "metadata": {
        "id": "lCCeK6bA3e8T"
      }
    },
    {
      "cell_type": "code",
      "source": [
        "def train_generator(optimizer, data_fake):\n",
        "    optimizer.zero_grad()\n",
        "\n",
        "    # Infer the batch size to generate real labels\n",
        "    batch_size = data_fake.size(0)\n",
        "    real_label = torch.ones(batch_size, 1).to(device)\n",
        "\n",
        "    # Pass generate data to discriminator\n",
        "    output_D = discriminator(data_fake)\n",
        "    loss_G = criterion(output_D, real_label)\n",
        "    loss_G.backward()\n",
        "\n",
        "    optimizer.step()\n",
        "\n",
        "    return loss_G"
      ],
      "metadata": {
        "id": "GY4-poU-JZpC"
      },
      "execution_count": null,
      "outputs": []
    },
    {
      "cell_type": "markdown",
      "source": [
        "### Discriminator"
      ],
      "metadata": {
        "id": "8nVcNL8g3jBz"
      }
    },
    {
      "cell_type": "code",
      "source": [
        "def train_discriminator(optimizer, data_real, data_fake):\n",
        "    optimizer.zero_grad()\n",
        "\n",
        "    # Infer the batch size to generate real and fake labels\n",
        "    batch_size = data_real.size(0)\n",
        "    real_label = torch.ones(batch_size, 1).to(device)\n",
        "    fake_label = torch.zeros(batch_size, 1).to(device)\n",
        "\n",
        "    # Real forward and backward pass\n",
        "    output_real = discriminator(data_real)\n",
        "    loss_real = criterion(output_real, real_label)\n",
        "\n",
        "    # Fake forward and backward pass\n",
        "    output_fake = discriminator(data_fake)\n",
        "    loss_fake = criterion(output_fake, fake_label)\n",
        "\n",
        "    loss_real.backward()\n",
        "    loss_fake.backward()\n",
        "\n",
        "    optimizer.step()\n",
        "\n",
        "    # Collate loss\n",
        "    total_loss = loss_real + loss_fake\n",
        "    return total_loss"
      ],
      "metadata": {
        "id": "yMk_8HfzJcJe"
      },
      "execution_count": null,
      "outputs": []
    },
    {
      "cell_type": "markdown",
      "source": [
        "## Configuring Traning Instance"
      ],
      "metadata": {
        "id": "c1IRnYHz30Lj"
      }
    },
    {
      "cell_type": "code",
      "source": [
        "import torch, gc\n",
        "gc.collect()\n",
        "torch.cuda.empty_cache()\n",
        "\n",
        "# Learning parameters\n",
        "batch_size = 512\n",
        "epochs = 100\n",
        "num_steps_D = 1 # number of steps to apply to the discriminator training\n",
        "noise_dim = 10\n",
        "\n",
        "# Creating GAN\n",
        "generator = Generator(input_width=noise_dim).to(device)\n",
        "discriminator = Discriminator().to(device)\n",
        "generator.train()\n",
        "discriminator.train()\n",
        "print(generator)\n",
        "print(discriminator)\n",
        "\n",
        "# Optimizers and loss function\n",
        "optim_g = optim.Adam(generator.parameters(), lr=0.0005)\n",
        "optim_d = optim.Adam(discriminator.parameters(), lr=0.0005)\n",
        "criterion = nn.BCELoss()\n",
        "\n",
        "# Generating DataLoaders\n",
        "train_dl = torch.utils.data.DataLoader(MNIST_data_train,\n",
        "                                       batch_size=batch_size,\n",
        "                                       shuffle=True)\n",
        "\n",
        "test_dl = torch.utils.data.DataLoader(MNIST_data_train,\n",
        "                                       batch_size=batch_size,\n",
        "                                       shuffle=False)\n",
        "\n",
        "# Training noise to display progress\n",
        "# Noise_size needs to be the same size as the input to generator\n",
        "# 64 as tracking 64 total images (8x8)\n",
        "noise = generate_noise(sample_size=64, noise_size=noise_dim)\n",
        "\n",
        "# Tracking arrays\n",
        "losses_g = []\n",
        "losses_d = []\n",
        "images = []\n",
        "loss_train_G = []\n",
        "loss_train_D = []\n"
      ],
      "metadata": {
        "id": "ZyaQsVI3QRE8",
        "colab": {
          "base_uri": "https://localhost:8080/"
        },
        "outputId": "d45f4d60-02da-494f-8a0c-413d226394c5"
      },
      "execution_count": null,
      "outputs": [
        {
          "output_type": "stream",
          "name": "stdout",
          "text": [
            "Generator(\n",
            "  (module_list): ModuleList(\n",
            "    (0): Linear(in_features=10, out_features=784, bias=True)\n",
            "    (1): LeakyReLU(negative_slope=0.2)\n",
            "    (2): Dropout(p=0, inplace=False)\n",
            "    (3): Linear(in_features=784, out_features=784, bias=True)\n",
            "    (4): LeakyReLU(negative_slope=0.2)\n",
            "    (5): Dropout(p=0, inplace=False)\n",
            "    (6): Linear(in_features=784, out_features=784, bias=True)\n",
            "    (7): LeakyReLU(negative_slope=0.2)\n",
            "    (8): Dropout(p=0, inplace=False)\n",
            "    (9): Linear(in_features=784, out_features=784, bias=True)\n",
            "    (10): Tanh()\n",
            "  )\n",
            ")\n",
            "Discriminator(\n",
            "  (module_list): ModuleList(\n",
            "    (0): Linear(in_features=784, out_features=784, bias=True)\n",
            "    (1): LeakyReLU(negative_slope=0.2)\n",
            "    (2): Dropout(p=0, inplace=False)\n",
            "    (3): Linear(in_features=784, out_features=784, bias=True)\n",
            "    (4): LeakyReLU(negative_slope=0.2)\n",
            "    (5): Dropout(p=0, inplace=False)\n",
            "    (6): Linear(in_features=784, out_features=784, bias=True)\n",
            "    (7): LeakyReLU(negative_slope=0.2)\n",
            "    (8): Dropout(p=0, inplace=False)\n",
            "    (9): Linear(in_features=784, out_features=1, bias=True)\n",
            "    (10): Sigmoid()\n",
            "  )\n",
            ")\n"
          ]
        }
      ]
    },
    {
      "cell_type": "markdown",
      "source": [
        "### Traning Loop"
      ],
      "metadata": {
        "id": "iXRFX5Xk6Vg7"
      }
    },
    {
      "cell_type": "code",
      "source": [
        "for epoch in range(epochs):\n",
        "\n",
        "    # Tracking losses for epoch\n",
        "    loss_D = 0\n",
        "    loss_G = 0\n",
        "\n",
        "    for i, data in enumerate(train_dl):\n",
        "        data_real = data[0].to(device)  # Don't need the label\n",
        "        batch_size = data_real.shape[0]\n",
        "\n",
        "        # Train discriminator\n",
        "        for j in range(num_steps_D):\n",
        "          data_fake = generator(generate_noise(batch_size, noise_dim)).detach()\n",
        "          loss_D += train_discriminator(optim_d, data_real, data_fake).item()\n",
        "\n",
        "        # Train generator\n",
        "        data_fake = generator(generate_noise(batch_size, noise_dim))\n",
        "        loss_G += train_generator(optim_g, data_fake).item()\n",
        "\n",
        "    # Display generate image from noise for the epoch\n",
        "    generator.eval()\n",
        "    generated_img = generator(noise).cpu().detach()\n",
        "    generator.train()\n",
        "\n",
        "    # Saving image\n",
        "    patcher(generated_img, epoch)\n",
        "\n",
        "    # Calculating average losses based on step counts\n",
        "    loss_G /= (i+1)\n",
        "    loss_D /= ((j+1)*(i+1))\n",
        "\n",
        "    # Tracking losses and printing information\n",
        "    loss_train_G.append(loss_G)\n",
        "    loss_train_D.append(loss_D)\n",
        "    print(\"Epoch:{}, Loss_G:{}, Loss_D:{}\".format(epoch, loss_G, loss_D))\n",
        "\n",
        "# Saving models (could be done with .state_dict())\n",
        "torch.save(generator, \"{}/generator\".format(dir))\n",
        "torch.save(discriminator, \"{}/discriminator\".format(dir))\n"
      ],
      "metadata": {
        "colab": {
          "base_uri": "https://localhost:8080/",
          "height": 1000
        },
        "id": "sFXISTGtJgcD",
        "outputId": "f5ce8cfe-cf51-4e08-c421-21c9dcf67c03"
      },
      "execution_count": null,
      "outputs": [
        {
          "output_type": "stream",
          "name": "stdout",
          "text": [
            "Epoch:0, Loss_G:10.274409749245239, Loss_D:0.3304217443055677\n",
            "Epoch:1, Loss_G:12.524682683459783, Loss_D:0.0030618380255950563\n",
            "Epoch:2, Loss_G:11.8307460283829, Loss_D:1.9949218089311477e-05\n",
            "Epoch:3, Loss_G:12.803952402987722, Loss_D:1.1965351917351037e-05\n",
            "Epoch:4, Loss_G:13.265057701175495, Loss_D:8.390120729788994e-06\n",
            "Epoch:5, Loss_G:13.594955298860194, Loss_D:6.336254635521149e-06\n",
            "Epoch:6, Loss_G:13.691957829362256, Loss_D:5.1909533925998216e-06\n",
            "Epoch:7, Loss_G:13.881977881415416, Loss_D:4.330256309127065e-06\n",
            "Epoch:8, Loss_G:14.163370382987846, Loss_D:3.5689046171683003e-06\n",
            "Epoch:9, Loss_G:14.304989952152058, Loss_D:3.036190937024712e-06\n",
            "Epoch:10, Loss_G:13.756580805374405, Loss_D:3.363660182959254e-06\n",
            "Epoch:11, Loss_G:17.61496967784429, Loss_D:0.002694770029730319\n",
            "Epoch:12, Loss_G:70.56839167061499, Loss_D:5.591346854596775e-06\n",
            "Epoch:13, Loss_G:72.14916222782459, Loss_D:4.780205479890063e-07\n",
            "Epoch:14, Loss_G:71.87428277225818, Loss_D:2.5569014089626125e-07\n",
            "Epoch:15, Loss_G:71.65443271701619, Loss_D:1.786111839807044e-07\n",
            "Epoch:16, Loss_G:71.39490586620266, Loss_D:1.364931867594791e-07\n",
            "Epoch:17, Loss_G:71.20228576660156, Loss_D:1.0968849530175109e-07\n",
            "Epoch:18, Loss_G:71.0924488002971, Loss_D:9.253458944642204e-08\n",
            "Epoch:19, Loss_G:70.99041586407161, Loss_D:7.647368924200497e-08\n",
            "Epoch:20, Loss_G:70.8395890704656, Loss_D:6.574598883862709e-08\n",
            "Epoch:21, Loss_G:70.7139645592641, Loss_D:5.718578412806483e-08\n",
            "Epoch:22, Loss_G:70.62875553713006, Loss_D:5.042898137916504e-08\n",
            "Epoch:23, Loss_G:70.5198814909337, Loss_D:4.432921736559559e-08\n",
            "Epoch:24, Loss_G:70.45248277308578, Loss_D:3.96247704010752e-08\n",
            "Epoch:25, Loss_G:70.3489500789319, Loss_D:3.556166478311025e-08\n",
            "Epoch:26, Loss_G:70.28092853093551, Loss_D:3.697834094437832e-08\n",
            "Epoch:27, Loss_G:70.18268630464198, Loss_D:2.8829725062513314e-08\n",
            "Epoch:28, Loss_G:70.1049603607695, Loss_D:2.6229319570117097e-08\n",
            "Epoch:29, Loss_G:70.05215428239208, Loss_D:2.400205666799364e-08\n",
            "Epoch:30, Loss_G:69.96476086115433, Loss_D:2.200025334484264e-08\n",
            "Epoch:31, Loss_G:69.88611719163798, Loss_D:2.0227639019274187e-08\n",
            "Epoch:32, Loss_G:69.85203856128757, Loss_D:1.8703038383328857e-08\n",
            "Epoch:33, Loss_G:69.76850335072663, Loss_D:1.717560828284892e-08\n",
            "Epoch:34, Loss_G:69.70781475002482, Loss_D:1.6999096142728082e-08\n",
            "Epoch:35, Loss_G:69.63652264869819, Loss_D:1.4630825836875754e-08\n",
            "Epoch:36, Loss_G:69.57096177440579, Loss_D:1.3569800056222306e-08\n",
            "Epoch:37, Loss_G:69.51302699719446, Loss_D:1.2623894690182323e-08\n",
            "Epoch:38, Loss_G:69.45660387459448, Loss_D:1.1730587776336833e-08\n",
            "Epoch:39, Loss_G:69.40624379303496, Loss_D:1.0920868443086697e-08\n",
            "Epoch:40, Loss_G:69.35181950714629, Loss_D:1.0149289021969045e-08\n",
            "Epoch:41, Loss_G:69.29712722261073, Loss_D:9.499079415944073e-09\n",
            "Epoch:42, Loss_G:69.23528923422603, Loss_D:8.834084051378789e-09\n",
            "Epoch:43, Loss_G:69.18203140517413, Loss_D:8.291428853294879e-09\n",
            "Epoch:44, Loss_G:69.11691381163516, Loss_D:7.744826892802553e-09\n",
            "Epoch:45, Loss_G:69.07418015043615, Loss_D:7.263348518447913e-09\n",
            "Epoch:46, Loss_G:69.00318417306674, Loss_D:6.78976925107384e-09\n",
            "Epoch:47, Loss_G:68.95587785365218, Loss_D:6.361567833482608e-09\n",
            "Epoch:48, Loss_G:68.89488498235153, Loss_D:5.968897701667502e-09\n",
            "Epoch:49, Loss_G:68.85307163303182, Loss_D:5.584112863729759e-09\n",
            "Epoch:50, Loss_G:68.79386138916016, Loss_D:5.2572129011219104e-09\n",
            "Epoch:51, Loss_G:68.73503002877963, Loss_D:4.925057931867657e-09\n",
            "Epoch:52, Loss_G:68.70433238401252, Loss_D:4.632360205641856e-09\n",
            "Epoch:53, Loss_G:68.64621081594693, Loss_D:4.3429574651692244e-09\n",
            "Epoch:54, Loss_G:68.58252922963288, Loss_D:4.080521274922941e-09\n",
            "Epoch:55, Loss_G:68.54762397378178, Loss_D:3.84570819610201e-09\n",
            "Epoch:56, Loss_G:68.4886044647734, Loss_D:3.6128718220978603e-09\n",
            "Epoch:57, Loss_G:68.46191509699418, Loss_D:3.387927025080698e-09\n",
            "Epoch:58, Loss_G:68.39935044110831, Loss_D:3.2024470069659834e-09\n",
            "Epoch:59, Loss_G:68.34563749927585, Loss_D:3.011047027296403e-09\n",
            "Epoch:60, Loss_G:68.27927456871937, Loss_D:2.829514803721171e-09\n",
            "Epoch:61, Loss_G:68.25348508155952, Loss_D:2.6598203860697716e-09\n",
            "Epoch:62, Loss_G:68.19616544044624, Loss_D:2.5019657012377596e-09\n",
            "Epoch:63, Loss_G:68.13322293556342, Loss_D:2.3697630604539884e-09\n",
            "Epoch:64, Loss_G:68.08740221443823, Loss_D:2.2401913292846764e-09\n",
            "Epoch:65, Loss_G:68.04151780726546, Loss_D:2.0974652026987362e-09\n",
            "Epoch:66, Loss_G:68.00594847081071, Loss_D:1.9771013541025993e-09\n",
            "Epoch:67, Loss_G:67.95053475590076, Loss_D:1.864630829918631e-09\n",
            "Epoch:68, Loss_G:67.90206825127036, Loss_D:1.7639990863966761e-09\n",
            "Epoch:69, Loss_G:67.86737222186589, Loss_D:1.6594212905856505e-09\n",
            "Epoch:70, Loss_G:67.79103922439833, Loss_D:1.5587902115509935e-09\n",
            "Epoch:71, Loss_G:67.74232017387779, Loss_D:1.4739441738694547e-09\n",
            "Epoch:72, Loss_G:67.71121655480336, Loss_D:1.3871249497431705e-09\n",
            "Epoch:73, Loss_G:67.66322830976065, Loss_D:1.3101716242046195e-09\n",
            "Epoch:74, Loss_G:67.61558629698672, Loss_D:1.2391379088071213e-09\n",
            "Epoch:75, Loss_G:67.5660871085474, Loss_D:1.1681042037591595e-09\n",
            "Epoch:76, Loss_G:67.51406724574203, Loss_D:1.104963163810837e-09\n",
            "Epoch:77, Loss_G:67.47062424481925, Loss_D:1.037875890456552e-09\n",
            "Epoch:78, Loss_G:67.41156148102324, Loss_D:1.001701255605847e-09\n",
            "Epoch:79, Loss_G:67.37712026046495, Loss_D:9.254060535759051e-10\n",
            "Epoch:80, Loss_G:67.32935889292571, Loss_D:8.721309228000691e-10\n",
            "Epoch:81, Loss_G:67.27894249608961, Loss_D:8.149095452109161e-10\n",
            "Epoch:82, Loss_G:67.22685092990682, Loss_D:7.754465207901509e-10\n",
            "Epoch:83, Loss_G:67.16519714614093, Loss_D:7.300640384135653e-10\n",
            "Epoch:84, Loss_G:67.11860423977092, Loss_D:6.925741303429562e-10\n",
            "Epoch:85, Loss_G:67.08117481813592, Loss_D:6.53111114154777e-10\n",
            "Epoch:86, Loss_G:67.02945470001738, Loss_D:6.156213229868889e-10\n",
            "Epoch:87, Loss_G:66.98036620576502, Loss_D:5.820777536993431e-10\n",
            "Epoch:88, Loss_G:66.94172409833487, Loss_D:5.524805161383583e-10\n",
            "Epoch:89, Loss_G:66.90070052066092, Loss_D:5.149907207365689e-10\n",
            "Epoch:90, Loss_G:66.85150987010891, Loss_D:4.873666597412262e-10\n",
            "Epoch:91, Loss_G:66.79513452820859, Loss_D:4.5974259639371624e-10\n",
            "Epoch:92, Loss_G:66.76048311136536, Loss_D:4.30145401171745e-10\n",
            "Epoch:93, Loss_G:66.6927600149381, Loss_D:4.0844078684181914e-10\n",
            "Epoch:94, Loss_G:66.65785857378427, Loss_D:3.906824489625197e-10\n",
            "Epoch:95, Loss_G:66.60405705338817, Loss_D:3.670046980537978e-10\n",
            "Epoch:96, Loss_G:66.56914151725123, Loss_D:3.531926655567842e-10\n",
            "Epoch:97, Loss_G:66.50417799868826, Loss_D:3.2754178324403456e-10\n",
            "Epoch:98, Loss_G:66.47078168190131, Loss_D:3.0781031795939203e-10\n",
            "Epoch:99, Loss_G:66.40797540697001, Loss_D:2.979445950785656e-10\n"
          ]
        },
        {
          "output_type": "display_data",
          "data": {
            "text/plain": [
              "<Figure size 432x288 with 0 Axes>"
            ]
          },
          "metadata": {}
        }
      ]
    },
    {
      "cell_type": "markdown",
      "source": [
        "## Post training "
      ],
      "metadata": {
        "id": "tQ8K9cvf9ezO"
      }
    },
    {
      "cell_type": "markdown",
      "source": [
        "### Plotting"
      ],
      "metadata": {
        "id": "1voh2bVY9ifk"
      }
    },
    {
      "cell_type": "code",
      "source": [
        "plt.figure(figsize=(8,6))\n",
        "plt.plot(loss_train_G, label='Generator')\n",
        "plt.plot(loss_train_D, label='Discriminator')\n",
        "plt.xlabel(\"Epoch\")\n",
        "plt.ylabel(\"Loss\")\n",
        "plt.legend()\n",
        "plt.grid()\n",
        "plt.show()\n",
        "plt.show()"
      ],
      "metadata": {
        "id": "SX8dZp8M8BYS",
        "colab": {
          "base_uri": "https://localhost:8080/",
          "height": 388
        },
        "outputId": "8261047b-6ee8-4540-d6ae-e53e4435e1bb"
      },
      "execution_count": null,
      "outputs": [
        {
          "output_type": "display_data",
          "data": {
            "text/plain": [
              "<Figure size 576x432 with 1 Axes>"
            ],
            "image/png": "[encoded data removed]"
          },
          "metadata": {
            "needs_background": "light"
          }
        }
      ]
    },
    {
      "cell_type": "markdown",
      "source": [
        "## Evaluating performance"
      ],
      "metadata": {
        "id": "QKt0VmlP_Y1f"
      }
    },
    {
      "cell_type": "code",
      "source": [
        "# Setting random seeds\n",
        "RANDOM_SEED = 3819969\n",
        "\n",
        "torch.manual_seed(RANDOM_SEED)\n",
        "random.seed(RANDOM_SEED)\n",
        "np.random.seed(RANDOM_SEED)"
      ],
      "metadata": {
        "id": "gRFhalBZ_bTH"
      },
      "execution_count": null,
      "outputs": []
    },
    {
      "cell_type": "code",
      "source": [
        "generator.eval()\n",
        "discriminator.eval()\n",
        "\n",
        "for i, real_img_data in enumerate(test_dl):\n",
        "\n",
        "        real_img_X = real_img_data[0].to(device)  # Don't need the label\n",
        "\n",
        "        real_preds = discriminator(real_img_X).cpu().detach().numpy()\n",
        "        batch_size = real_img_X.size(0)\n",
        "        real_label = torch.ones(batch_size, 1).numpy()\n",
        "        # Pass generate data to discriminator\n",
        "        output_D = discriminator(data_fake)\n",
        "\n",
        "        if i == 0:\n",
        "          break\n",
        "test_noise = generate_noise(512, noise_dim)\n",
        "fake_imag_X = generator(test_noise)\n",
        "fake_label = torch.zeros(batch_size, 1).numpy()\n",
        "fake_preds = discriminator(fake_imag_X).cpu().detach().numpy()\n",
        "\n",
        "real_preds = (real_preds >= 0.5).astype(int)\n",
        "fake_preds = (fake_preds >= 0.5).astype(int)\n",
        "\n",
        "net_preds = np.concatenate((real_preds, fake_preds))\n",
        "net_label = np.concatenate((real_label, fake_label))\n",
        "\n",
        "tn, fp, fn, tp = confusion_matrix(net_label, net_preds).ravel()\n",
        "\n",
        "test_acc = accuracy_score(net_label, net_preds)\n",
        "\n",
        "\n",
        "print(\"\\n\\nConfusion Matrix:\")\n",
        "print(\"TP: {}, FP:{}\\nFN:{}, TN:{}\".format(tp, fp, fn, tn))\n",
        "print(\"\\nAccuracy {:.4f}\".format(test_acc))\n",
        "print(\"Precision: {:.4f}\".format(tp/(tp+fp)))\n",
        "print(\"Recall: {:.4f}\".format(tp/(tp+fn)))\n",
        "print(\"F1: {:.4f}\".format(tp/(tp+0.5*(fp+fn))))"
      ],
      "metadata": {
        "colab": {
          "base_uri": "https://localhost:8080/"
        },
        "id": "_jlGOvAh_ixb",
        "outputId": "91facfae-4a6e-469e-f7b5-fc8b8a0ec76a"
      },
      "execution_count": null,
      "outputs": [
        {
          "output_type": "stream",
          "name": "stdout",
          "text": [
            "\n",
            "\n",
            "Confusion Matrix:\n",
            "TP: 512, FP:0\n",
            "FN:0, TN:512\n",
            "\n",
            "Accuracy 1.0000\n",
            "Precision: 1.0000\n",
            "Recall: 1.0000\n",
            "F1: 1.0000\n"
          ]
        }
      ]
    },
    {
      "cell_type": "markdown",
      "source": [
        "## Improving Generator and Discriminator"
      ],
      "metadata": {
        "id": "Na9Pp0YdJaB9"
      }
    },
    {
      "cell_type": "code",
      "source": [
        "dir = \"GAN_images_5\""
      ],
      "metadata": {
        "id": "JyoGIVAF3akF"
      },
      "execution_count": null,
      "outputs": []
    },
    {
      "cell_type": "code",
      "source": [
        "!mkdir GAN_images_5"
      ],
      "metadata": {
        "id": "TpLJyNgW3gcG"
      },
      "execution_count": null,
      "outputs": []
    },
    {
      "cell_type": "code",
      "source": [
        "import torch, gc\n",
        "gc.collect()\n",
        "torch.cuda.empty_cache()\n",
        "\n",
        "# Learning parameters\n",
        "batch_size = 512\n",
        "epochs = 300\n",
        "num_steps_D = 3 # number of steps to apply to the discriminator training\n",
        "num_steps_G = 1\n",
        "noise_dim = 64\n",
        "lr = 0.0002\n",
        "# Creating GAN\n",
        "\n",
        "generator = Generator(input_width=noise_dim)\n",
        "                      \n",
        "discriminator = Discriminator()\n",
        "\n",
        "\n",
        "generator = Generator(input_width=noise_dim,\n",
        "                      lw=(256,512,1024),\n",
        "                      output_a=\"Tanh\")     \n",
        "          \n",
        "discriminator = Discriminator(lw=(1024,512,256),\n",
        "                      dropout_r=0.3)\n",
        "\n",
        "\n",
        "generator = generator.to(device)\n",
        "discriminator = discriminator.to(device)\n",
        "generator.train()\n",
        "discriminator.train()\n",
        "print(generator)\n",
        "print(discriminator)\n",
        "\n",
        "# Optimizers and loss function\n",
        "optim_g = optim.Adam(generator.parameters(), lr=lr)\n",
        "optim_d = optim.Adam(discriminator.parameters(), lr=lr)\n",
        "criterion = nn.BCELoss()\n",
        "\n",
        "# Generating DataLoaders\n",
        "train_dl = torch.utils.data.DataLoader(MNIST_data_train,\n",
        "                                       batch_size=batch_size,\n",
        "                                       shuffle=True)\n",
        "\n",
        "test_dl = torch.utils.data.DataLoader(MNIST_data_train,\n",
        "                                       batch_size=batch_size,\n",
        "                                       shuffle=False)\n",
        "\n",
        "# Training noise to display progress\n",
        "# Noise_size needs to be the same size as the input to generator\n",
        "# 64 as tracking 64 total images (8x8)\n",
        "noise = generate_noise(sample_size=64, noise_size=noise_dim)\n",
        "\n",
        "# Tracking arrays\n",
        "losses_g = []\n",
        "losses_d = []\n",
        "images = []\n",
        "loss_train_G = []\n",
        "loss_train_D = []\n"
      ],
      "metadata": {
        "colab": {
          "base_uri": "https://localhost:8080/"
        },
        "id": "Fbg9LRdc3jHS",
        "outputId": "93204b13-93d3-4f19-c55e-52fcd6511691"
      },
      "execution_count": null,
      "outputs": [
        {
          "output_type": "stream",
          "name": "stdout",
          "text": [
            "Generator(\n",
            "  (module_list): ModuleList(\n",
            "    (0): Linear(in_features=64, out_features=256, bias=True)\n",
            "    (1): LeakyReLU(negative_slope=0.2)\n",
            "    (2): Dropout(p=0, inplace=False)\n",
            "    (3): Linear(in_features=256, out_features=512, bias=True)\n",
            "    (4): LeakyReLU(negative_slope=0.2)\n",
            "    (5): Dropout(p=0, inplace=False)\n",
            "    (6): Linear(in_features=512, out_features=1024, bias=True)\n",
            "    (7): LeakyReLU(negative_slope=0.2)\n",
            "    (8): Dropout(p=0, inplace=False)\n",
            "    (9): Linear(in_features=1024, out_features=784, bias=True)\n",
            "    (10): Tanh()\n",
            "  )\n",
            ")\n",
            "Discriminator(\n",
            "  (module_list): ModuleList(\n",
            "    (0): Linear(in_features=784, out_features=1024, bias=True)\n",
            "    (1): LeakyReLU(negative_slope=0.2)\n",
            "    (2): Dropout(p=0.3, inplace=False)\n",
            "    (3): Linear(in_features=1024, out_features=512, bias=True)\n",
            "    (4): LeakyReLU(negative_slope=0.2)\n",
            "    (5): Dropout(p=0.3, inplace=False)\n",
            "    (6): Linear(in_features=512, out_features=256, bias=True)\n",
            "    (7): LeakyReLU(negative_slope=0.2)\n",
            "    (8): Dropout(p=0.3, inplace=False)\n",
            "    (9): Linear(in_features=256, out_features=1, bias=True)\n",
            "    (10): Sigmoid()\n",
            "  )\n",
            ")\n"
          ]
        }
      ]
    },
    {
      "cell_type": "code",
      "source": [
        "for epoch in range(epochs):\n",
        "\n",
        "    # Tracking losses for epoch\n",
        "    loss_D = 0\n",
        "    loss_G = 0\n",
        "\n",
        "    for i, data in enumerate(train_dl):\n",
        "        data_real = data[0].to(device)  # Don't need the label\n",
        "        batch_size = data_real.shape[0]\n",
        "\n",
        "        # Train discriminator\n",
        "        for j in range(num_steps_D):\n",
        "          data_fake = generator(generate_noise(batch_size, noise_dim)).detach()\n",
        "          loss_D += train_discriminator(optim_d, data_real, data_fake).item()\n",
        "\n",
        "        # Train generator\n",
        "        for k in range(num_steps_G):\n",
        "          data_fake = generator(generate_noise(batch_size, noise_dim))\n",
        "          loss_G += train_generator(optim_g, data_fake).item()\n",
        "\n",
        "    # Display generate image from noise for the epoch\n",
        "    generator.eval()\n",
        "    generated_img = generator(noise).cpu().detach()\n",
        "    generator.train()\n",
        "\n",
        "    # Saving image\n",
        "    patcher(generated_img, epoch)\n",
        "\n",
        "    # Calculating average losses based on step counts\n",
        "    loss_G /= ((k+1)*(i+1))\n",
        "    loss_D /= ((j+1)*(i+1))\n",
        "\n",
        "    # Tracking losses and printing information\n",
        "    loss_train_G.append(loss_G)\n",
        "    loss_train_D.append(loss_D)\n",
        "    print(\"Epoch:{}, Loss_G:{}, Loss_D:{}\".format(epoch, loss_G, loss_D))\n",
        "\n",
        "# Saving models (could be done with .state_dict())\n",
        "torch.save(generator, \"{}/generator\".format(dir))\n",
        "torch.save(discriminator, \"{}/discriminator\".format(dir))\n"
      ],
      "metadata": {
        "colab": {
          "base_uri": "https://localhost:8080/",
          "height": 1000
        },
        "id": "IbUfutvF33EJ",
        "outputId": "ba04d409-4438-42f7-f05a-94c5e431dfd1"
      },
      "execution_count": null,
      "outputs": [
        {
          "output_type": "stream",
          "name": "stdout",
          "text": [
            "Epoch:0, Loss_G:9.855775637646852, Loss_D:0.0787436358167709\n",
            "Epoch:1, Loss_G:10.407781346369598, Loss_D:0.07674391456750763\n",
            "Epoch:2, Loss_G:9.174761537778176, Loss_D:0.07276678137623607\n",
            "Epoch:3, Loss_G:8.388294607906019, Loss_D:0.02667644884342612\n",
            "Epoch:4, Loss_G:8.566521866846893, Loss_D:0.008369189064218373\n",
            "Epoch:5, Loss_G:8.968085911314366, Loss_D:0.008869267604757747\n",
            "Epoch:6, Loss_G:9.740715289520004, Loss_D:0.011031935586545374\n",
            "Epoch:7, Loss_G:9.378944552550882, Loss_D:0.059191040420775845\n",
            "Epoch:8, Loss_G:9.717960220272259, Loss_D:0.013155373730196875\n",
            "Epoch:9, Loss_G:9.764701350260589, Loss_D:0.012193009289708989\n",
            "Epoch:10, Loss_G:9.665790662927142, Loss_D:0.017553643333429004\n",
            "Epoch:11, Loss_G:11.025308928247226, Loss_D:0.017813069421152117\n",
            "Epoch:12, Loss_G:10.355257919279195, Loss_D:0.012506297715192419\n",
            "Epoch:13, Loss_G:10.185046712220725, Loss_D:0.0762992998709084\n",
            "Epoch:14, Loss_G:9.615763235900362, Loss_D:0.03026363729383523\n",
            "Epoch:15, Loss_G:9.686094449738325, Loss_D:0.025780050758480246\n",
            "Epoch:16, Loss_G:9.559915041519425, Loss_D:0.02394786231630182\n",
            "Epoch:17, Loss_G:9.454918247158245, Loss_D:0.028231325758605312\n",
            "Epoch:18, Loss_G:9.689824540736312, Loss_D:0.02738765740140978\n",
            "Epoch:19, Loss_G:9.07438403469021, Loss_D:0.033940004812300965\n",
            "Epoch:20, Loss_G:8.38601590819278, Loss_D:0.054549577332885756\n",
            "Epoch:21, Loss_G:8.301851046287407, Loss_D:0.03961734451737655\n",
            "Epoch:22, Loss_G:7.0355395806037775, Loss_D:0.08179224349326839\n",
            "Epoch:23, Loss_G:6.660686446448504, Loss_D:0.07609079320951875\n",
            "Epoch:24, Loss_G:5.873582691459332, Loss_D:0.11751906509053404\n",
            "Epoch:25, Loss_G:5.421710527549355, Loss_D:0.10241250722211297\n",
            "Epoch:26, Loss_G:5.485520524493719, Loss_D:0.11257649800282414\n",
            "Epoch:27, Loss_G:5.147253731549797, Loss_D:0.1289661229288174\n",
            "Epoch:28, Loss_G:4.898351683454998, Loss_D:0.13013655450300307\n",
            "Epoch:29, Loss_G:4.70214059191235, Loss_D:0.14416425575181252\n",
            "Epoch:30, Loss_G:4.682642368947045, Loss_D:0.14647321199924596\n",
            "Epoch:31, Loss_G:4.318751367471986, Loss_D:0.1653333570029439\n",
            "Epoch:32, Loss_G:4.033690438432209, Loss_D:0.186059527688444\n",
            "Epoch:33, Loss_G:3.897119544320187, Loss_D:0.2076103413256548\n",
            "Epoch:34, Loss_G:3.877317996348365, Loss_D:0.2040615925765307\n",
            "Epoch:35, Loss_G:3.7663319717019292, Loss_D:0.21476112156685462\n",
            "Epoch:36, Loss_G:3.7118355278241433, Loss_D:0.21330119290594327\n",
            "Epoch:37, Loss_G:3.4868167032629755, Loss_D:0.23330709077207382\n",
            "Epoch:38, Loss_G:3.365306561276064, Loss_D:0.24231976135975897\n",
            "Epoch:39, Loss_G:3.3613447557061407, Loss_D:0.24496620253654522\n",
            "Epoch:40, Loss_G:3.3039813950910406, Loss_D:0.2537149233838259\n",
            "Epoch:41, Loss_G:3.245272323236627, Loss_D:0.25335475217319475\n",
            "Epoch:42, Loss_G:3.203497650259632, Loss_D:0.2613204962200364\n",
            "Epoch:43, Loss_G:3.0744797587394714, Loss_D:0.2729931381967782\n",
            "Epoch:44, Loss_G:3.1420115535542115, Loss_D:0.2638637553584778\n",
            "Epoch:45, Loss_G:3.1379105135545893, Loss_D:0.2738667748405435\n",
            "Epoch:46, Loss_G:3.0785873330245583, Loss_D:0.27617874480573473\n",
            "Epoch:47, Loss_G:3.162992766347982, Loss_D:0.2708928048779062\n",
            "Epoch:48, Loss_G:3.0171013605796686, Loss_D:0.284465308243272\n",
            "Epoch:49, Loss_G:2.989730192443072, Loss_D:0.29202365273304576\n",
            "Epoch:50, Loss_G:2.948364538661504, Loss_D:0.29763352622588474\n",
            "Epoch:51, Loss_G:2.9603144597199003, Loss_D:0.2926649946277424\n",
            "Epoch:52, Loss_G:3.0077823501522256, Loss_D:0.29032112384414943\n",
            "Epoch:53, Loss_G:3.0974281561576715, Loss_D:0.28248551441619624\n",
            "Epoch:54, Loss_G:2.9671646124225552, Loss_D:0.2995824773011908\n",
            "Epoch:55, Loss_G:2.943122483916202, Loss_D:0.2985946142909217\n",
            "Epoch:56, Loss_G:2.9557413812411033, Loss_D:0.29580522252846575\n",
            "Epoch:57, Loss_G:2.840785631688975, Loss_D:0.30921585525328155\n",
            "Epoch:58, Loss_G:2.7606129403841697, Loss_D:0.3171480539659996\n",
            "Epoch:59, Loss_G:2.870120606179965, Loss_D:0.3079691721642085\n",
            "Epoch:60, Loss_G:2.96498862565574, Loss_D:0.2998361014208551\n",
            "Epoch:61, Loss_G:3.027441012657295, Loss_D:0.3006129463934629\n",
            "Epoch:62, Loss_G:2.922359618089967, Loss_D:0.31027448459365276\n",
            "Epoch:63, Loss_G:2.9388275550583662, Loss_D:0.3058247937489364\n",
            "Epoch:64, Loss_G:2.8849450420525113, Loss_D:0.31471390866458754\n",
            "Epoch:65, Loss_G:2.887076179860002, Loss_D:0.31319936811082105\n",
            "Epoch:66, Loss_G:2.8912409281326554, Loss_D:0.3150030118176493\n",
            "Epoch:67, Loss_G:2.842305886543403, Loss_D:0.32062150622155033\n",
            "Epoch:68, Loss_G:2.926618531598883, Loss_D:0.3145875209721468\n",
            "Epoch:69, Loss_G:2.8207013182720897, Loss_D:0.3246138884270259\n",
            "Epoch:70, Loss_G:2.845606201786106, Loss_D:0.31992352328731516\n",
            "Epoch:71, Loss_G:2.741564079866571, Loss_D:0.3287726564511741\n",
            "Epoch:72, Loss_G:2.5951610793501643, Loss_D:0.33712617253179605\n",
            "Epoch:73, Loss_G:2.68430080050129, Loss_D:0.3303733810698245\n",
            "Epoch:74, Loss_G:2.711669843075639, Loss_D:0.3279569893654457\n",
            "Epoch:75, Loss_G:2.7254184959298473, Loss_D:0.3301545463207751\n",
            "Epoch:76, Loss_G:2.7086233001644326, Loss_D:0.32918758505145035\n",
            "Epoch:77, Loss_G:2.6422462220919334, Loss_D:0.3371100888750647\n",
            "Epoch:78, Loss_G:2.7005184403920577, Loss_D:0.33601809137285094\n",
            "Epoch:79, Loss_G:2.686785237263825, Loss_D:0.334147536821958\n",
            "Epoch:80, Loss_G:2.640423679755906, Loss_D:0.3367325700609024\n",
            "Epoch:81, Loss_G:2.6509376946142162, Loss_D:0.3382989826512202\n",
            "Epoch:82, Loss_G:2.7219985743700446, Loss_D:0.33277026951144645\n",
            "Epoch:83, Loss_G:2.6245283716816012, Loss_D:0.3391655612800081\n",
            "Epoch:84, Loss_G:2.6593186693676447, Loss_D:0.34040213220537047\n",
            "Epoch:85, Loss_G:2.6467947454775795, Loss_D:0.3415459782137709\n",
            "Epoch:86, Loss_G:2.656844963461666, Loss_D:0.33934801648565605\n",
            "Epoch:87, Loss_G:2.5895116420115456, Loss_D:0.3450925284523075\n",
            "Epoch:88, Loss_G:2.725967942658117, Loss_D:0.334866352000479\n",
            "Epoch:89, Loss_G:2.6814206636558144, Loss_D:0.33856616695385194\n",
            "Epoch:90, Loss_G:2.586395431373079, Loss_D:0.34689096037277395\n",
            "Epoch:91, Loss_G:2.5873382596646324, Loss_D:0.3475215552469431\n",
            "Epoch:92, Loss_G:2.5754091860884327, Loss_D:0.35076527196471974\n",
            "Epoch:93, Loss_G:2.607794686899347, Loss_D:0.3481105134985541\n",
            "Epoch:94, Loss_G:2.634243023597588, Loss_D:0.34764136045666066\n",
            "Epoch:95, Loss_G:2.7846045292029946, Loss_D:0.3379181693755301\n",
            "Epoch:96, Loss_G:2.6626935146622737, Loss_D:0.3409556166431998\n",
            "Epoch:97, Loss_G:2.626822875717939, Loss_D:0.34723543135796564\n",
            "Epoch:98, Loss_G:2.5591968984927163, Loss_D:0.3588445118423236\n",
            "Epoch:99, Loss_G:2.5337694256992664, Loss_D:0.359873052539125\n",
            "Epoch:100, Loss_G:2.5216301679611206, Loss_D:0.36180396933676834\n",
            "Epoch:101, Loss_G:2.5711540812152927, Loss_D:0.3570027275610778\n",
            "Epoch:102, Loss_G:2.6064742500499145, Loss_D:0.35679567937797074\n",
            "Epoch:103, Loss_G:2.6633984880932307, Loss_D:0.3523507013832782\n",
            "Epoch:104, Loss_G:2.564405536247512, Loss_D:0.3588343260146804\n",
            "Epoch:105, Loss_G:2.5473689931934165, Loss_D:0.36500781479865146\n",
            "Epoch:106, Loss_G:2.6072611707752036, Loss_D:0.36062236307031015\n",
            "Epoch:107, Loss_G:2.5691559577392318, Loss_D:0.3683259312884282\n",
            "Epoch:108, Loss_G:2.54318972260265, Loss_D:0.3717365523347747\n",
            "Epoch:109, Loss_G:2.559035571955018, Loss_D:0.3690611754601958\n",
            "Epoch:110, Loss_G:2.5458607976719483, Loss_D:0.3712741991894393\n",
            "Epoch:111, Loss_G:2.4702252735525874, Loss_D:0.3773962894907105\n",
            "Epoch:112, Loss_G:2.5116952294010226, Loss_D:0.3745693950834921\n",
            "Epoch:113, Loss_G:2.6151176953719832, Loss_D:0.3673333961748134\n",
            "Epoch:114, Loss_G:2.6410273778236517, Loss_D:0.36825248910545627\n",
            "Epoch:115, Loss_G:2.6641811011201244, Loss_D:0.37226830107175696\n",
            "Epoch:116, Loss_G:2.4851700128135032, Loss_D:0.38505269544946275\n",
            "Epoch:117, Loss_G:2.5254767163325162, Loss_D:0.3913334512104422\n",
            "Epoch:118, Loss_G:2.58490647299815, Loss_D:0.38502248187186355\n",
            "Epoch:119, Loss_G:2.5999591047480957, Loss_D:0.3864918873976853\n",
            "Epoch:120, Loss_G:2.5281585535760653, Loss_D:0.39082894638433296\n",
            "Epoch:121, Loss_G:2.5284935801716175, Loss_D:0.39577749405203566\n",
            "Epoch:122, Loss_G:2.419048571990708, Loss_D:0.4128214013946932\n",
            "Epoch:123, Loss_G:2.407824513265642, Loss_D:0.4139426050886596\n",
            "Epoch:124, Loss_G:2.4701707433846036, Loss_D:0.41004050687208016\n",
            "Epoch:125, Loss_G:2.4274840637788935, Loss_D:0.41694528782098306\n",
            "Epoch:126, Loss_G:2.4309791255805453, Loss_D:0.4193009503480405\n",
            "Epoch:127, Loss_G:2.4904982073832365, Loss_D:0.41866086111903866\n",
            "Epoch:128, Loss_G:2.400643546702498, Loss_D:0.429715238301094\n",
            "Epoch:129, Loss_G:2.423949517435947, Loss_D:0.43165585912216853\n",
            "Epoch:130, Loss_G:2.4215888805308583, Loss_D:0.4264320902063348\n",
            "Epoch:131, Loss_G:2.4530200210668274, Loss_D:0.4351085937966061\n",
            "Epoch:132, Loss_G:2.3863422850431024, Loss_D:0.43984239712610085\n",
            "Epoch:133, Loss_G:2.3856053160408797, Loss_D:0.4416578822890244\n",
            "Epoch:134, Loss_G:2.411270829580598, Loss_D:0.44459337821114536\n",
            "Epoch:135, Loss_G:2.385877019267971, Loss_D:0.45048225077532106\n",
            "Epoch:136, Loss_G:2.447024977813333, Loss_D:0.4471668195253038\n",
            "Epoch:137, Loss_G:2.446348305475914, Loss_D:0.4490351177709924\n",
            "Epoch:138, Loss_G:2.3612805392782565, Loss_D:0.46025701195506724\n",
            "Epoch:139, Loss_G:2.2894507404101097, Loss_D:0.47480472871812723\n",
            "Epoch:140, Loss_G:2.3187134861946106, Loss_D:0.47834175783025346\n",
            "Epoch:141, Loss_G:2.4021541284302534, Loss_D:0.46305798162511513\n",
            "Epoch:142, Loss_G:2.3233456207534013, Loss_D:0.4742144017906512\n",
            "Epoch:143, Loss_G:2.344365085585643, Loss_D:0.4810181853629775\n",
            "Epoch:144, Loss_G:2.2956692566305903, Loss_D:0.49099489903382665\n",
            "Epoch:145, Loss_G:2.3262819112357445, Loss_D:0.48133248419074687\n",
            "Epoch:146, Loss_G:2.3567172763711315, Loss_D:0.47994134764550095\n",
            "Epoch:147, Loss_G:2.312909728389675, Loss_D:0.491375932669909\n",
            "Epoch:148, Loss_G:2.296151091486721, Loss_D:0.5048311966455589\n",
            "Epoch:149, Loss_G:2.287203792798317, Loss_D:0.49951684879044356\n",
            "Epoch:150, Loss_G:2.262982073476759, Loss_D:0.5047358355279696\n",
            "Epoch:151, Loss_G:2.2376776721517917, Loss_D:0.5153781018183057\n",
            "Epoch:152, Loss_G:2.251474567389084, Loss_D:0.5167258593153818\n",
            "Epoch:153, Loss_G:2.2848276455523604, Loss_D:0.5123679541935355\n",
            "Epoch:154, Loss_G:2.2481661014637706, Loss_D:0.5229736779537578\n",
            "Epoch:155, Loss_G:2.267615599147344, Loss_D:0.5249434575691061\n",
            "Epoch:156, Loss_G:2.260441718465191, Loss_D:0.5217240753315263\n",
            "Epoch:157, Loss_G:2.185429371009439, Loss_D:0.5399718309863138\n",
            "Epoch:158, Loss_G:2.193608713352074, Loss_D:0.5385725287731085\n",
            "Epoch:159, Loss_G:2.1777690952107056, Loss_D:0.5503669310424287\n",
            "Epoch:160, Loss_G:2.1549644288370167, Loss_D:0.5564366707862434\n",
            "Epoch:161, Loss_G:2.1479360309697815, Loss_D:0.559612252870522\n",
            "Epoch:162, Loss_G:2.177999468173011, Loss_D:0.5568415847538555\n",
            "Epoch:163, Loss_G:2.1914204874281156, Loss_D:0.5554451096360966\n",
            "Epoch:164, Loss_G:2.133306469957707, Loss_D:0.5745902204580899\n",
            "Epoch:165, Loss_G:2.132487070762505, Loss_D:0.5744474999143578\n",
            "Epoch:166, Loss_G:2.1354003326367526, Loss_D:0.5719502486583203\n",
            "Epoch:167, Loss_G:2.146854915861356, Loss_D:0.5830401822840426\n",
            "Epoch:168, Loss_G:2.1392490186933744, Loss_D:0.5881493414862681\n",
            "Epoch:169, Loss_G:2.1550609823000633, Loss_D:0.5869299087484005\n",
            "Epoch:170, Loss_G:2.0877867704730924, Loss_D:0.5964681951508011\n",
            "Epoch:171, Loss_G:2.067592577408936, Loss_D:0.5998042727594322\n",
            "Epoch:172, Loss_G:2.0509095808206976, Loss_D:0.6094561274779045\n",
            "Epoch:173, Loss_G:2.118173496197846, Loss_D:0.5908890803486614\n",
            "Epoch:174, Loss_G:2.1074158761460904, Loss_D:0.6031794762712414\n",
            "Epoch:175, Loss_G:2.062367679709095, Loss_D:0.6085239264082773\n",
            "Epoch:176, Loss_G:2.0348870117785567, Loss_D:0.6209480073829156\n",
            "Epoch:177, Loss_G:2.0098302930088368, Loss_D:0.6329814832089311\n",
            "Epoch:178, Loss_G:2.066365326865245, Loss_D:0.6265131517150307\n",
            "Epoch:179, Loss_G:2.0435853923781444, Loss_D:0.6301852941176312\n",
            "Epoch:180, Loss_G:2.0332918813673118, Loss_D:0.6357764791970872\n",
            "Epoch:181, Loss_G:2.0088023391820617, Loss_D:0.6392388978583664\n",
            "Epoch:182, Loss_G:2.0008289783687916, Loss_D:0.6532624464924053\n",
            "Epoch:183, Loss_G:2.0199597306170705, Loss_D:0.6480892522860382\n",
            "Epoch:184, Loss_G:2.011240003472668, Loss_D:0.6550079703667743\n",
            "Epoch:185, Loss_G:2.0013910127898393, Loss_D:0.6518140726507047\n",
            "Epoch:186, Loss_G:1.969007498126919, Loss_D:0.6641541232833754\n",
            "Epoch:187, Loss_G:1.9483621181067774, Loss_D:0.6730534643103174\n",
            "Epoch:188, Loss_G:1.9650025115174763, Loss_D:0.6720706175612865\n",
            "Epoch:189, Loss_G:1.9861866407475228, Loss_D:0.6670199206656655\n",
            "Epoch:190, Loss_G:1.995748674465438, Loss_D:0.6706702646899358\n",
            "Epoch:191, Loss_G:1.9579142685663902, Loss_D:0.6762325115459787\n",
            "Epoch:192, Loss_G:1.9331616567353072, Loss_D:0.6844695850280719\n",
            "Epoch:193, Loss_G:1.918615045183796, Loss_D:0.6933607740254052\n",
            "Epoch:194, Loss_G:1.9223302218873621, Loss_D:0.6955780597393122\n",
            "Epoch:195, Loss_G:1.8898594035940655, Loss_D:0.6956883352355095\n",
            "Epoch:196, Loss_G:1.8743502780542536, Loss_D:0.7083674415019946\n",
            "Epoch:197, Loss_G:1.9393032718512973, Loss_D:0.6925960508106792\n",
            "Epoch:198, Loss_G:1.889221335871745, Loss_D:0.7083573605717912\n",
            "Epoch:199, Loss_G:1.9012288774474193, Loss_D:0.7044355084667098\n",
            "Epoch:200, Loss_G:1.9297699928283691, Loss_D:0.7022176676214078\n",
            "Epoch:201, Loss_G:1.8992726519956427, Loss_D:0.714604203815514\n",
            "Epoch:202, Loss_G:1.874986814240278, Loss_D:0.7200813123398582\n",
            "Epoch:203, Loss_G:1.8747570383346688, Loss_D:0.7208152583426675\n",
            "Epoch:204, Loss_G:1.892626707836733, Loss_D:0.7174279900257197\n",
            "Epoch:205, Loss_G:1.8874875428312916, Loss_D:0.7214041215888525\n",
            "Epoch:206, Loss_G:1.8559339198015503, Loss_D:0.7320410461075562\n",
            "Epoch:207, Loss_G:1.8391932339991552, Loss_D:0.7355361691975998\n",
            "Epoch:208, Loss_G:1.8380244707657118, Loss_D:0.7373654812069262\n",
            "Epoch:209, Loss_G:1.848212191614054, Loss_D:0.7372272548365728\n",
            "Epoch:210, Loss_G:1.833595998206381, Loss_D:0.7397033142841468\n",
            "Epoch:211, Loss_G:1.8556243464098139, Loss_D:0.7411387458359454\n",
            "Epoch:212, Loss_G:1.862670744879771, Loss_D:0.7362837808280341\n",
            "Epoch:213, Loss_G:1.8579727067785747, Loss_D:0.738927433046244\n",
            "Epoch:214, Loss_G:1.8486979169360662, Loss_D:0.7432222243419475\n",
            "Epoch:215, Loss_G:1.8252826040073977, Loss_D:0.748499700915342\n",
            "Epoch:216, Loss_G:1.8070202621362976, Loss_D:0.752195294967479\n",
            "Epoch:217, Loss_G:1.858722158407761, Loss_D:0.7458065111758345\n",
            "Epoch:218, Loss_G:1.8303160728034327, Loss_D:0.7493247426835831\n",
            "Epoch:219, Loss_G:1.7966924249115637, Loss_D:0.7589471102771113\n",
            "Epoch:220, Loss_G:1.8036885766659754, Loss_D:0.7600989974824722\n",
            "Epoch:221, Loss_G:1.7877790251020658, Loss_D:0.7642406358220483\n",
            "Epoch:222, Loss_G:1.8238857984542847, Loss_D:0.7543297361182628\n",
            "Epoch:223, Loss_G:1.832519404968973, Loss_D:0.7560920703545803\n",
            "Epoch:224, Loss_G:1.7791712849827137, Loss_D:0.7672738860555961\n",
            "Epoch:225, Loss_G:1.8129970461635265, Loss_D:0.7616389119355692\n",
            "Epoch:226, Loss_G:1.7941178164239657, Loss_D:0.7674360817435097\n",
            "Epoch:227, Loss_G:1.7811160734144307, Loss_D:0.7741625963968072\n",
            "Epoch:228, Loss_G:1.769782659360918, Loss_D:0.7731971085745063\n",
            "Epoch:229, Loss_G:1.8243817959801625, Loss_D:0.7579348158028166\n",
            "Epoch:230, Loss_G:1.7991962836960615, Loss_D:0.768927209289734\n",
            "Epoch:231, Loss_G:1.7693507630946272, Loss_D:0.7794668660999018\n",
            "Epoch:232, Loss_G:1.7811203215081812, Loss_D:0.7789696936553481\n",
            "Epoch:233, Loss_G:1.7710498167296587, Loss_D:0.7825738043434876\n",
            "Epoch:234, Loss_G:1.7424464458126132, Loss_D:0.7904229268515851\n",
            "Epoch:235, Loss_G:1.735429356663914, Loss_D:0.7873590475758591\n",
            "Epoch:236, Loss_G:1.7561560525732525, Loss_D:0.790228740475272\n",
            "Epoch:237, Loss_G:1.7652149079209667, Loss_D:0.7846626870039493\n",
            "Epoch:238, Loss_G:1.7732423826799555, Loss_D:0.7838703494960979\n",
            "Epoch:239, Loss_G:1.7312967625714966, Loss_D:0.7962087746393882\n",
            "Epoch:240, Loss_G:1.741947632724956, Loss_D:0.7901038404575176\n",
            "Epoch:241, Loss_G:1.766827194367425, Loss_D:0.7904425869553776\n",
            "Epoch:242, Loss_G:1.7508036938764282, Loss_D:0.7933913363238513\n",
            "Epoch:243, Loss_G:1.7574334053669947, Loss_D:0.7894502561644646\n",
            "Epoch:244, Loss_G:1.7379729192135698, Loss_D:0.8016712975367314\n",
            "Epoch:245, Loss_G:1.742753300626399, Loss_D:0.7961218501888426\n",
            "Epoch:246, Loss_G:1.7202449451058597, Loss_D:0.8033907642472262\n",
            "Epoch:247, Loss_G:1.720774885961565, Loss_D:0.8038460289017629\n",
            "Epoch:248, Loss_G:1.723967078378645, Loss_D:0.802768573417502\n",
            "Epoch:249, Loss_G:1.7498144244743605, Loss_D:0.8033217525078078\n",
            "Epoch:250, Loss_G:1.756053206274065, Loss_D:0.7990343272686005\n",
            "Epoch:251, Loss_G:1.7358640462665234, Loss_D:0.8065920787005775\n",
            "Epoch:252, Loss_G:1.6908190472651337, Loss_D:0.8219904968630796\n",
            "Epoch:253, Loss_G:1.7070983102766133, Loss_D:0.8168338912691774\n",
            "Epoch:254, Loss_G:1.6595033073829393, Loss_D:0.8295493127599274\n",
            "Epoch:255, Loss_G:1.6977877808829485, Loss_D:0.8212110853127841\n",
            "Epoch:256, Loss_G:1.6921129984370733, Loss_D:0.8225235878410986\n",
            "Epoch:257, Loss_G:1.6650278083348677, Loss_D:0.8299525671422818\n",
            "Epoch:258, Loss_G:1.6914095828088664, Loss_D:0.8243495992011269\n",
            "Epoch:259, Loss_G:1.7091788861711146, Loss_D:0.8180326454046756\n",
            "Epoch:260, Loss_G:1.6982832793462075, Loss_D:0.8193771137019336\n",
            "Epoch:261, Loss_G:1.7127982509338249, Loss_D:0.8172599602553804\n",
            "Epoch:262, Loss_G:1.6729507820080902, Loss_D:0.83176126789912\n",
            "Epoch:263, Loss_G:1.701041429729785, Loss_D:0.8245049715042114\n",
            "Epoch:264, Loss_G:1.6753872430930703, Loss_D:0.8326376252255198\n",
            "Epoch:265, Loss_G:1.672784878035723, Loss_D:0.8330331111358384\n",
            "Epoch:266, Loss_G:1.659245491027832, Loss_D:0.8435593265934852\n",
            "Epoch:267, Loss_G:1.6619404453342244, Loss_D:0.8330199070232737\n",
            "Epoch:268, Loss_G:1.657703683537952, Loss_D:0.8425662825673313\n",
            "Epoch:269, Loss_G:1.6671820171808793, Loss_D:0.8368244219971241\n",
            "Epoch:270, Loss_G:1.6751739059464406, Loss_D:0.8362612545827014\n",
            "Epoch:271, Loss_G:1.6626638073032185, Loss_D:0.8431558627530006\n",
            "Epoch:272, Loss_G:1.6994189094688932, Loss_D:0.8296042146992548\n",
            "Epoch:273, Loss_G:1.7032594337301739, Loss_D:0.8283919656680803\n",
            "Epoch:274, Loss_G:1.6740849109019262, Loss_D:0.8413070036193072\n",
            "Epoch:275, Loss_G:1.6525446055299144, Loss_D:0.8456851225451562\n",
            "Epoch:276, Loss_G:1.6658592921192363, Loss_D:0.8430165626571677\n",
            "Epoch:277, Loss_G:1.6529753359697632, Loss_D:0.847110616621998\n",
            "Epoch:278, Loss_G:1.6540292067042852, Loss_D:0.8442878159089277\n",
            "Epoch:279, Loss_G:1.6543001512349662, Loss_D:0.8467571092190715\n",
            "Epoch:280, Loss_G:1.6604321629314098, Loss_D:0.8458335266611671\n",
            "Epoch:281, Loss_G:1.6215676342026661, Loss_D:0.8570431499494671\n",
            "Epoch:282, Loss_G:1.648520168611559, Loss_D:0.8505709460899655\n",
            "Epoch:283, Loss_G:1.6301094889640808, Loss_D:0.8578909061386086\n",
            "Epoch:284, Loss_G:1.6243590409472837, Loss_D:0.8591512173919355\n",
            "Epoch:285, Loss_G:1.660612072985051, Loss_D:0.848880248217933\n",
            "Epoch:286, Loss_G:1.6529311446820276, Loss_D:0.8500276049651668\n",
            "Epoch:287, Loss_G:1.6561668535410348, Loss_D:0.8503421460841335\n",
            "Epoch:288, Loss_G:1.6612568538067705, Loss_D:0.8492981453063124\n",
            "Epoch:289, Loss_G:1.6283909466307043, Loss_D:0.8601613051473758\n",
            "Epoch:290, Loss_G:1.6310487803766283, Loss_D:0.8605628697212133\n",
            "Epoch:291, Loss_G:1.6471306287636192, Loss_D:0.8516078500424401\n",
            "Epoch:292, Loss_G:1.6141279915631828, Loss_D:0.8614124664142306\n",
            "Epoch:293, Loss_G:1.6245477209656924, Loss_D:0.8659515335398206\n",
            "Epoch:294, Loss_G:1.6304274696414753, Loss_D:0.8583287743188567\n",
            "Epoch:295, Loss_G:1.6490098753217923, Loss_D:0.851221708591375\n",
            "Epoch:296, Loss_G:1.6078490523968714, Loss_D:0.8653429031035321\n",
            "Epoch:297, Loss_G:1.6033865546776076, Loss_D:0.874847817724034\n",
            "Epoch:298, Loss_G:1.5928467441413363, Loss_D:0.8691206158554486\n",
            "Epoch:299, Loss_G:1.6098394111051397, Loss_D:0.8691658864250291\n"
          ]
        },
        {
          "output_type": "display_data",
          "data": {
            "text/plain": [
              "<Figure size 432x288 with 0 Axes>"
            ]
          },
          "metadata": {}
        }
      ]
    },
    {
      "cell_type": "markdown",
      "source": [
        "## Post training \n",
        "### Plotting"
      ],
      "metadata": {
        "id": "b65x268U3zuV"
      }
    },
    {
      "cell_type": "code",
      "source": [
        "plt.figure(figsize=(8,6))\n",
        "plt.plot(loss_train_G, label='Generator')\n",
        "plt.plot(loss_train_D, label='Discriminator')\n",
        "plt.xlabel(\"Epoch\")\n",
        "plt.ylabel(\"Loss\")\n",
        "plt.legend()\n",
        "plt.grid()\n",
        "plt.show()\n",
        "plt.show()"
      ],
      "metadata": {
        "colab": {
          "base_uri": "https://localhost:8080/",
          "height": 388
        },
        "id": "NvXu37r53pU1",
        "outputId": "cdfcc783-f5c8-4c90-c446-5b2b98608438"
      },
      "execution_count": null,
      "outputs": [
        {
          "output_type": "display_data",
          "data": {
            "text/plain": [
              "<Figure size 576x432 with 1 Axes>"
            ],
            "image/png": "[encoded data removed]"
          },
          "metadata": {
            "needs_background": "light"
          }
        }
      ]
    },
    {
      "cell_type": "markdown",
      "source": [
        "## Evaluating performance"
      ],
      "metadata": {
        "id": "11i-di7e4Cma"
      }
    },
    {
      "cell_type": "code",
      "source": [
        "# Setting random seeds\n",
        "RANDOM_SEED = 3819969\n",
        "\n",
        "torch.manual_seed(RANDOM_SEED)\n",
        "random.seed(RANDOM_SEED)\n",
        "np.random.seed(RANDOM_SEED)"
      ],
      "metadata": {
        "id": "5RiBRxKX4DFi"
      },
      "execution_count": null,
      "outputs": []
    },
    {
      "cell_type": "code",
      "source": [
        "generator.eval()\n",
        "discriminator.eval()\n",
        "\n",
        "for i, real_img_data in enumerate(test_dl):\n",
        "\n",
        "        real_img_X = real_img_data[0].to(device)  # Don't need the label\n",
        "\n",
        "        real_preds = discriminator(real_img_X).cpu().detach().numpy()\n",
        "        batch_size = real_img_X.size(0)\n",
        "        real_label = torch.ones(batch_size, 1).numpy()\n",
        "        # Pass generate data to discriminator\n",
        "        output_D = discriminator(data_fake)\n",
        "\n",
        "        if i == 0:\n",
        "          break\n",
        "test_noise = generate_noise(512, noise_dim)\n",
        "fake_imag_X = generator(test_noise)\n",
        "fake_label = torch.zeros(batch_size, 1).numpy()\n",
        "fake_preds = discriminator(fake_imag_X).cpu().detach().numpy()\n",
        "\n",
        "real_preds = (real_preds >= 0.5).astype(int)\n",
        "fake_preds = (fake_preds >= 0.5).astype(int)\n",
        "\n",
        "net_preds = np.concatenate((real_preds, fake_preds))\n",
        "net_label = np.concatenate((real_label, fake_label))\n",
        "\n",
        "tn, fp, fn, tp = confusion_matrix(net_label, net_preds).ravel()\n",
        "\n",
        "test_acc = accuracy_score(net_label, net_preds)\n",
        "\n",
        "print(\"\\n\\nConfusion Matrix:\")\n",
        "print(\"TP: {}, FP:{}\\nFN:{}, TN:{}\".format(tp, fp, fn, tn))\n",
        "print(\"\\nAccuracy {:.4f}\".format(test_acc))\n",
        "print(\"Precision: {:.4f}\".format(tp/(tp+fp)))\n",
        "print(\"Recall: {:.4f}\".format(tp/(tp+fn)))\n",
        "print(\"F1: {:.4f}\".format(tp/(tp+0.5*(fp+fn))))"
      ],
      "metadata": {
        "colab": {
          "base_uri": "https://localhost:8080/"
        },
        "id": "uAVrGjwZ4IIq",
        "outputId": "c98c4c4b-b173-4ac5-f8f3-f0d30b22e618"
      },
      "execution_count": null,
      "outputs": [
        {
          "output_type": "stream",
          "name": "stdout",
          "text": [
            "\n",
            "\n",
            "Confusion Matrix:\n",
            "TP: 387, FP:22\n",
            "FN:125, TN:490\n",
            "\n",
            "Accuracy 0.8564\n",
            "Precision: 0.9462\n",
            "Recall: 0.7559\n",
            "F1: 0.8404\n"
          ]
        }
      ]
    },
    {
      "cell_type": "markdown",
      "source": [
        "## Continuing training for output video!"
      ],
      "metadata": {
        "id": "tevbeZ2wFIAl"
      }
    },
    {
      "cell_type": "code",
      "source": [
        "generator.train()\n",
        "discriminator.train()\n",
        "\n",
        "for epoch in range(300, epochs+300, 1):\n",
        "\n",
        "    # Tracking losses for epoch\n",
        "    loss_D = 0\n",
        "    loss_G = 0\n",
        "\n",
        "    for i, data in enumerate(train_dl):\n",
        "        data_real = data[0].to(device)  # Don't need the label\n",
        "        batch_size = data_real.shape[0]\n",
        "\n",
        "        # Train discriminator\n",
        "        for j in range(num_steps_D):\n",
        "          data_fake = generator(generate_noise(batch_size, noise_dim)).detach()\n",
        "          loss_D += train_discriminator(optim_d, data_real, data_fake).item()\n",
        "\n",
        "        # Train generator\n",
        "        for k in range(num_steps_G):\n",
        "          data_fake = generator(generate_noise(batch_size, noise_dim))\n",
        "          loss_G += train_generator(optim_g, data_fake).item()\n",
        "\n",
        "    # Display generate image from noise for the epoch\n",
        "    generator.eval()\n",
        "    generated_img = generator(noise).cpu().detach()\n",
        "    generator.train()\n",
        "\n",
        "    # Saving image\n",
        "    patcher(generated_img, epoch)\n",
        "\n",
        "    # Calculating average losses based on step counts\n",
        "    loss_G /= ((k+1)*(i+1))\n",
        "    loss_D /= ((j+1)*(i+1))\n",
        "\n",
        "    # Tracking losses and printing information\n",
        "    loss_train_G.append(loss_G)\n",
        "    loss_train_D.append(loss_D)\n",
        "    print(\"Epoch:{}, Loss_G:{}, Loss_D:{}\".format(epoch, loss_G, loss_D))\n",
        "\n",
        "# Saving models (could be done with .state_dict())\n",
        "torch.save(generator, \"{}/generator\".format(dir))\n",
        "torch.save(discriminator, \"{}/discriminator\".format(dir))"
      ],
      "metadata": {
        "colab": {
          "base_uri": "https://localhost:8080/"
        },
        "id": "IY5iV-ZUFHBF",
        "outputId": "14d3df1a-a0ee-4bc6-868c-c3434205f416"
      },
      "execution_count": null,
      "outputs": [
        {
          "output_type": "stream",
          "name": "stdout",
          "text": [
            "Epoch:300, Loss_G:2.0655495271844377, Loss_D:0.7775601997213849\n",
            "Epoch:301, Loss_G:1.7368216464074993, Loss_D:0.7837030397633374\n",
            "Epoch:302, Loss_G:1.6671738159858573, Loss_D:0.799024040752885\n",
            "Epoch:303, Loss_G:1.6301633159993059, Loss_D:0.8143685108187508\n",
            "Epoch:304, Loss_G:1.6143706067133758, Loss_D:0.8219772893830207\n",
            "Epoch:305, Loss_G:1.6079078579353074, Loss_D:0.8309341749902499\n",
            "Epoch:306, Loss_G:1.5896491034556244, Loss_D:0.8373633517047107\n",
            "Epoch:307, Loss_G:1.5597594440993616, Loss_D:0.8498322342411947\n",
            "Epoch:308, Loss_G:1.5550474069886289, Loss_D:0.857558244870881\n",
            "Epoch:309, Loss_G:1.5562921408879555, Loss_D:0.8617079020556757\n",
            "Epoch:310, Loss_G:1.5352366778810145, Loss_D:0.8688121416137717\n",
            "Epoch:311, Loss_G:1.5355709952823187, Loss_D:0.8709294506385501\n",
            "Epoch:312, Loss_G:1.55113687959768, Loss_D:0.8712601826689338\n",
            "Epoch:313, Loss_G:1.5360716823804177, Loss_D:0.8775051234468902\n",
            "Epoch:314, Loss_G:1.5404525954844588, Loss_D:0.87516717402275\n",
            "Epoch:315, Loss_G:1.5322918861599293, Loss_D:0.8811534558985866\n",
            "Epoch:316, Loss_G:1.5494182190652621, Loss_D:0.8783541077611137\n",
            "Epoch:317, Loss_G:1.5637611635660722, Loss_D:0.8685884970729634\n",
            "Epoch:318, Loss_G:1.5767498854863442, Loss_D:0.8698927701193061\n",
            "Epoch:319, Loss_G:1.5606446296481762, Loss_D:0.8738063632768426\n",
            "Epoch:320, Loss_G:1.57552424527831, Loss_D:0.8688363911068372\n",
            "Epoch:321, Loss_G:1.5835841510255457, Loss_D:0.8668401077979029\n",
            "Epoch:322, Loss_G:1.5937012666362826, Loss_D:0.8690775238861472\n",
            "Epoch:323, Loss_G:1.5891249856706393, Loss_D:0.8704497458907844\n",
            "Epoch:324, Loss_G:1.566616691775241, Loss_D:0.8753109293132179\n",
            "Epoch:325, Loss_G:1.5852097171848103, Loss_D:0.8750269414678131\n",
            "Epoch:326, Loss_G:1.5836688381130413, Loss_D:0.8724415894955565\n",
            "Epoch:327, Loss_G:1.6076613715139485, Loss_D:0.8634861823865922\n",
            "Epoch:328, Loss_G:1.5729486204810061, Loss_D:0.876319919939095\n",
            "Epoch:329, Loss_G:1.5521041164963931, Loss_D:0.8864695308572155\n",
            "Epoch:330, Loss_G:1.59449144541207, Loss_D:0.8727666919177535\n",
            "Epoch:331, Loss_G:1.6129621156191423, Loss_D:0.8684545469149357\n",
            "Epoch:332, Loss_G:1.5701039079892434, Loss_D:0.880510753494198\n",
            "Epoch:333, Loss_G:1.5796568131042739, Loss_D:0.881673339228172\n",
            "Epoch:334, Loss_G:1.5829804135581194, Loss_D:0.878738550311428\n",
            "Epoch:335, Loss_G:1.585724847801661, Loss_D:0.8798235075621955\n",
            "Epoch:336, Loss_G:1.568350785869663, Loss_D:0.8888669554459847\n",
            "Epoch:337, Loss_G:1.5766396866006367, Loss_D:0.8822352663945343\n",
            "Epoch:338, Loss_G:1.5542639695991904, Loss_D:0.8906201484513148\n",
            "Epoch:339, Loss_G:1.5558230654668, Loss_D:0.8901063040488184\n",
            "Epoch:340, Loss_G:1.576233586012307, Loss_D:0.8855280024183672\n",
            "Epoch:341, Loss_G:1.5745194483611544, Loss_D:0.8858971651327812\n",
            "Epoch:342, Loss_G:1.5754325298939722, Loss_D:0.8874007239516846\n",
            "Epoch:343, Loss_G:1.5620181489798983, Loss_D:0.889578486398115\n",
            "Epoch:344, Loss_G:1.547480858988681, Loss_D:0.8933831800175251\n",
            "Epoch:345, Loss_G:1.55617067975513, Loss_D:0.8886311796762175\n",
            "Epoch:346, Loss_G:1.557977622848446, Loss_D:0.8944888195749057\n",
            "Epoch:347, Loss_G:1.5504136620941809, Loss_D:0.8940663519552199\n",
            "Epoch:348, Loss_G:1.559330216908859, Loss_D:0.8969469366774048\n",
            "Epoch:349, Loss_G:1.5902906858314902, Loss_D:0.8831968241828984\n",
            "Epoch:350, Loss_G:1.5504968843217624, Loss_D:0.8997760800655279\n",
            "Epoch:351, Loss_G:1.5663130586430178, Loss_D:0.895678585195272\n",
            "Epoch:352, Loss_G:1.540632030721438, Loss_D:0.9022806081394691\n",
            "Epoch:353, Loss_G:1.535386744192091, Loss_D:0.9048870556098593\n",
            "Epoch:354, Loss_G:1.5446096971883612, Loss_D:0.8980107898429289\n",
            "Epoch:355, Loss_G:1.5450701814586834, Loss_D:0.8971102566032086\n",
            "Epoch:356, Loss_G:1.5503348657640361, Loss_D:0.8944503713799061\n",
            "Epoch:357, Loss_G:1.547536051879495, Loss_D:0.9003779159090614\n",
            "Epoch:358, Loss_G:1.5556525577933102, Loss_D:0.897288783795416\n",
            "Epoch:359, Loss_G:1.5718707775665541, Loss_D:0.8911452407890794\n",
            "Epoch:360, Loss_G:1.5521416623713606, Loss_D:0.897446959200552\n",
            "Epoch:361, Loss_G:1.5431052567595143, Loss_D:0.9039659508540805\n",
            "Epoch:362, Loss_G:1.558833775884014, Loss_D:0.9028659678448392\n",
            "Epoch:363, Loss_G:1.5467251953432115, Loss_D:0.9011018183608513\n",
            "Epoch:364, Loss_G:1.5528476106918465, Loss_D:0.9038232054750798\n",
            "Epoch:365, Loss_G:1.5220552430314533, Loss_D:0.91265852993491\n",
            "Epoch:366, Loss_G:1.5126289280794434, Loss_D:0.9169328416471427\n",
            "Epoch:367, Loss_G:1.4990754460884352, Loss_D:0.9182677961001962\n",
            "Epoch:368, Loss_G:1.519991127111144, Loss_D:0.9130632101142474\n",
            "Epoch:369, Loss_G:1.5408277895491003, Loss_D:0.9034688322894318\n",
            "Epoch:370, Loss_G:1.5335659596879603, Loss_D:0.9084441269521659\n",
            "Epoch:371, Loss_G:1.5143161102876825, Loss_D:0.9139539080824556\n",
            "Epoch:372, Loss_G:1.51944151268167, Loss_D:0.9110562028521199\n",
            "Epoch:373, Loss_G:1.518692965224638, Loss_D:0.9166644902552589\n",
            "Epoch:374, Loss_G:1.5171484310748213, Loss_D:0.9126511493981895\n",
            "Epoch:375, Loss_G:1.5244509597956124, Loss_D:0.9118278295980335\n",
            "Epoch:376, Loss_G:1.5386118030143996, Loss_D:0.909473984591705\n",
            "Epoch:377, Loss_G:1.5279456922563457, Loss_D:0.91075811042624\n",
            "Epoch:378, Loss_G:1.5115785184553114, Loss_D:0.9178141628281545\n",
            "Epoch:379, Loss_G:1.5193542555227117, Loss_D:0.9161494311976568\n",
            "Epoch:380, Loss_G:1.5197359808420732, Loss_D:0.9208475676296795\n",
            "Epoch:381, Loss_G:1.5222115142870758, Loss_D:0.914953708985431\n",
            "Epoch:382, Loss_G:1.5262318394951901, Loss_D:0.9168648766932515\n",
            "Epoch:383, Loss_G:1.5257704621654447, Loss_D:0.9197900168976542\n",
            "Epoch:384, Loss_G:1.5233162894087322, Loss_D:0.9202802277217477\n",
            "Epoch:385, Loss_G:1.520383749978017, Loss_D:0.9187813241266262\n",
            "Epoch:386, Loss_G:1.5066361275769897, Loss_D:0.9151324341862889\n",
            "Epoch:387, Loss_G:1.5011881569684562, Loss_D:0.9295813240910654\n",
            "Epoch:388, Loss_G:1.5205543162459034, Loss_D:0.9199550773127604\n",
            "Epoch:389, Loss_G:1.5187059206477667, Loss_D:0.9186857064901772\n",
            "Epoch:390, Loss_G:1.5223281060234974, Loss_D:0.9199310202719801\n",
            "Epoch:391, Loss_G:1.5167748150178941, Loss_D:0.9192315405708248\n",
            "Epoch:392, Loss_G:1.5186671867208965, Loss_D:0.9180458992888025\n",
            "Epoch:393, Loss_G:1.5459178019378146, Loss_D:0.9077114774345678\n",
            "Epoch:394, Loss_G:1.5420057561437963, Loss_D:0.9111077482417479\n",
            "Epoch:395, Loss_G:1.5254491789866302, Loss_D:0.9156693304325901\n",
            "Epoch:396, Loss_G:1.5092904486898648, Loss_D:0.925506846716175\n",
            "Epoch:397, Loss_G:1.5244322651523654, Loss_D:0.9193712508274337\n",
            "Epoch:398, Loss_G:1.5061651801658889, Loss_D:0.9271014819374193\n",
            "Epoch:399, Loss_G:1.4924131591441268, Loss_D:0.9301045543729922\n",
            "Epoch:400, Loss_G:1.5003190646737308, Loss_D:0.9266561840550375\n",
            "Epoch:401, Loss_G:1.5034863979129467, Loss_D:0.925500823616308\n",
            "Epoch:402, Loss_G:1.5085566912667225, Loss_D:0.9248543492818283\n",
            "Epoch:403, Loss_G:1.4977856874465942, Loss_D:0.9298040275856599\n",
            "Epoch:404, Loss_G:1.4750158978720842, Loss_D:0.9335672186929628\n",
            "Epoch:405, Loss_G:1.5108783204676741, Loss_D:0.9254753872499628\n",
            "Epoch:406, Loss_G:1.494530560606617, Loss_D:0.9254208513572391\n",
            "Epoch:407, Loss_G:1.5104095279160192, Loss_D:0.9237692670970313\n",
            "Epoch:408, Loss_G:1.508452263929076, Loss_D:0.9251367059131127\n",
            "Epoch:409, Loss_G:1.5136971493898812, Loss_D:0.9234279794881572\n",
            "Epoch:410, Loss_G:1.4980643674478693, Loss_D:0.9307864293203516\n",
            "Epoch:411, Loss_G:1.4883453532800837, Loss_D:0.9362622523038401\n",
            "Epoch:412, Loss_G:1.5001796877990334, Loss_D:0.9269829550705387\n",
            "Epoch:413, Loss_G:1.5305827967191146, Loss_D:0.9196197166617981\n",
            "Epoch:414, Loss_G:1.4893885547831907, Loss_D:0.9327967215729298\n",
            "Epoch:415, Loss_G:1.4984173067545488, Loss_D:0.9280065575898704\n",
            "Epoch:416, Loss_G:1.4924775331707325, Loss_D:0.9333425943797591\n",
            "Epoch:417, Loss_G:1.502319330886259, Loss_D:0.9316543253128138\n",
            "Epoch:418, Loss_G:1.4838118674391407, Loss_D:0.9331124738111334\n",
            "Epoch:419, Loss_G:1.4888441310090534, Loss_D:0.9301433504301276\n",
            "Epoch:420, Loss_G:1.5041419146424633, Loss_D:0.9274076285672053\n",
            "Epoch:421, Loss_G:1.4889043428130069, Loss_D:0.9353923992922077\n",
            "Epoch:422, Loss_G:1.5052553445605907, Loss_D:0.9314187579909287\n",
            "Epoch:423, Loss_G:1.4903812398344785, Loss_D:0.9351323428800551\n",
            "Epoch:424, Loss_G:1.5146470807366452, Loss_D:0.9280832861102907\n",
            "Epoch:425, Loss_G:1.4937846377744513, Loss_D:0.9319798410949061\n",
            "Epoch:426, Loss_G:1.4812003262972429, Loss_D:0.9369900985962927\n",
            "Epoch:427, Loss_G:1.48127691220429, Loss_D:0.9381700121076767\n",
            "Epoch:428, Loss_G:1.4838497598292464, Loss_D:0.9346266474764225\n",
            "Epoch:429, Loss_G:1.474457542775041, Loss_D:0.9397002899714109\n",
            "Epoch:430, Loss_G:1.493237974280018, Loss_D:0.9344441065680509\n",
            "Epoch:431, Loss_G:1.4818969682111578, Loss_D:0.9368295918750225\n",
            "Epoch:432, Loss_G:1.4880008919764374, Loss_D:0.9386476300193765\n",
            "Epoch:433, Loss_G:1.506113570625499, Loss_D:0.9308715173080142\n",
            "Epoch:434, Loss_G:1.4983152615821969, Loss_D:0.9316357446592406\n",
            "Epoch:435, Loss_G:1.5262982623051788, Loss_D:0.9245502411645684\n",
            "Epoch:436, Loss_G:1.5157741479954476, Loss_D:0.9274251078818477\n",
            "Epoch:437, Loss_G:1.488464942422964, Loss_D:0.9369029434724042\n",
            "Epoch:438, Loss_G:1.473974053132332, Loss_D:0.9432915029889446\n",
            "Epoch:439, Loss_G:1.4647653860560919, Loss_D:0.9456554794378873\n",
            "Epoch:440, Loss_G:1.5010511764025285, Loss_D:0.933864645870392\n",
            "Epoch:441, Loss_G:1.5122383368217338, Loss_D:0.9328269709301533\n",
            "Epoch:442, Loss_G:1.4814232658531705, Loss_D:0.9331343323834198\n",
            "Epoch:443, Loss_G:1.4720596327620037, Loss_D:0.9468298365840804\n",
            "Epoch:444, Loss_G:1.4708556371220087, Loss_D:0.9436262175861725\n",
            "Epoch:445, Loss_G:1.4656257306115101, Loss_D:0.9475859602292379\n",
            "Epoch:446, Loss_G:1.46604352280245, Loss_D:0.9441061511551593\n",
            "Epoch:447, Loss_G:1.4754352458452775, Loss_D:0.9450532378113202\n",
            "Epoch:448, Loss_G:1.4946952674348475, Loss_D:0.9338662035047671\n",
            "Epoch:449, Loss_G:1.491530109260042, Loss_D:0.9336315568557567\n",
            "Epoch:450, Loss_G:1.4772602279307478, Loss_D:0.9430560782804327\n",
            "Epoch:451, Loss_G:1.4895173523385645, Loss_D:0.9408686890103722\n",
            "Epoch:452, Loss_G:1.496601183535689, Loss_D:0.9333409225873355\n",
            "Epoch:453, Loss_G:1.4846804566302543, Loss_D:0.9391225695946795\n",
            "Epoch:454, Loss_G:1.4931151169841572, Loss_D:0.9410657924784105\n",
            "Epoch:455, Loss_G:1.488179708941508, Loss_D:0.9382313045404725\n",
            "Epoch:456, Loss_G:1.486923299603543, Loss_D:0.9393399079977456\n",
            "Epoch:457, Loss_G:1.48976389735432, Loss_D:0.9395044752433475\n",
            "Epoch:458, Loss_G:1.5002898806232516, Loss_D:0.9316500320946429\n",
            "Epoch:459, Loss_G:1.4804468629723888, Loss_D:0.9408735622793941\n",
            "Epoch:460, Loss_G:1.4673716193538602, Loss_D:0.9423396957796172\n",
            "Epoch:461, Loss_G:1.4815987237429216, Loss_D:0.9387367978944616\n",
            "Epoch:462, Loss_G:1.4814560968997115, Loss_D:0.9415298883861067\n",
            "Epoch:463, Loss_G:1.4845246187711165, Loss_D:0.9406403668519467\n",
            "Epoch:464, Loss_G:1.4744804915735277, Loss_D:0.9443421540624004\n",
            "Epoch:465, Loss_G:1.4766118950762992, Loss_D:0.9444708128770193\n",
            "Epoch:466, Loss_G:1.4707982408798348, Loss_D:0.9448474787049375\n",
            "Epoch:467, Loss_G:1.4767046196986053, Loss_D:0.9457641158063533\n",
            "Epoch:468, Loss_G:1.475741012621734, Loss_D:0.9435262454431609\n",
            "Epoch:469, Loss_G:1.488132286879976, Loss_D:0.9392214638028441\n",
            "Epoch:470, Loss_G:1.481840845891985, Loss_D:0.9422865275946041\n",
            "Epoch:471, Loss_G:1.4768989197278426, Loss_D:0.9461049035107348\n",
            "Epoch:472, Loss_G:1.4656935192770877, Loss_D:0.9491973477231581\n",
            "Epoch:473, Loss_G:1.481473613593538, Loss_D:0.9440808284417385\n",
            "Epoch:474, Loss_G:1.4760799418061465, Loss_D:0.9447660228963626\n",
            "Epoch:475, Loss_G:1.4649023878372323, Loss_D:0.9474820489600554\n",
            "Epoch:476, Loss_G:1.4589110107745153, Loss_D:0.9480694675512906\n",
            "Epoch:477, Loss_G:1.4806374321549625, Loss_D:0.9419300605011525\n",
            "Epoch:478, Loss_G:1.4757486228215493, Loss_D:0.9455059094954346\n",
            "Epoch:479, Loss_G:1.4801994390406852, Loss_D:0.9463301765716682\n",
            "Epoch:480, Loss_G:1.487928535978673, Loss_D:0.9452784970655279\n",
            "Epoch:481, Loss_G:1.4800519791700073, Loss_D:0.9422433036195357\n",
            "Epoch:482, Loss_G:1.4834841853481229, Loss_D:0.9395041731791308\n",
            "Epoch:483, Loss_G:1.4843132445367717, Loss_D:0.9437637768559537\n",
            "Epoch:484, Loss_G:1.482562775329008, Loss_D:0.939872068032033\n",
            "Epoch:485, Loss_G:1.4790755490125236, Loss_D:0.9429696579437471\n",
            "Epoch:486, Loss_G:1.45121007652606, Loss_D:0.9537653086212395\n",
            "Epoch:487, Loss_G:1.451236983477059, Loss_D:0.9491868589894247\n",
            "Epoch:488, Loss_G:1.4642130025362565, Loss_D:0.9505545138302496\n",
            "Epoch:489, Loss_G:1.4623004652686038, Loss_D:0.9522258378354843\n",
            "Epoch:490, Loss_G:1.468155217372765, Loss_D:0.9463644723097483\n",
            "Epoch:491, Loss_G:1.4715554582870614, Loss_D:0.9477135424560073\n",
            "Epoch:492, Loss_G:1.4770507034608873, Loss_D:0.942983257400114\n",
            "Epoch:493, Loss_G:1.4743255831427493, Loss_D:0.9470620763167149\n",
            "Epoch:494, Loss_G:1.4699102114822904, Loss_D:0.9520198845930692\n",
            "Epoch:495, Loss_G:1.4727226940252014, Loss_D:0.9512327264594493\n",
            "Epoch:496, Loss_G:1.4793527227337078, Loss_D:0.9438200407782517\n",
            "Epoch:497, Loss_G:1.4822725663750858, Loss_D:0.945162791990291\n",
            "Epoch:498, Loss_G:1.4860052254240392, Loss_D:0.9448257671237665\n",
            "Epoch:499, Loss_G:1.4667728230104609, Loss_D:0.9475705576481792\n",
            "Epoch:500, Loss_G:1.4649878356416346, Loss_D:0.9466751746538669\n",
            "Epoch:501, Loss_G:1.4814984899456218, Loss_D:0.944606833875516\n",
            "Epoch:502, Loss_G:1.4750012694779089, Loss_D:0.9466076925986231\n",
            "Epoch:503, Loss_G:1.471630279290474, Loss_D:0.9465702460647303\n",
            "Epoch:504, Loss_G:1.4884353855908927, Loss_D:0.945890559315008\n",
            "Epoch:505, Loss_G:1.4662632426973117, Loss_D:0.9503338466593101\n",
            "Epoch:506, Loss_G:1.4694880115783822, Loss_D:0.9474651956625577\n",
            "Epoch:507, Loss_G:1.4909273183951943, Loss_D:0.9419562324965741\n",
            "Epoch:508, Loss_G:1.4822846570257413, Loss_D:0.9426837994553948\n",
            "Epoch:509, Loss_G:1.4802432262291343, Loss_D:0.9431016903139103\n",
            "Epoch:510, Loss_G:1.4686185202356112, Loss_D:0.9480727195402997\n",
            "Epoch:511, Loss_G:1.471114559698913, Loss_D:0.9524372184680681\n",
            "Epoch:512, Loss_G:1.4765149334729728, Loss_D:0.946904681496701\n",
            "Epoch:513, Loss_G:1.4803274647664215, Loss_D:0.9457219588217762\n",
            "Epoch:514, Loss_G:1.4683322552907265, Loss_D:0.9499556056860476\n",
            "Epoch:515, Loss_G:1.4667404718318229, Loss_D:0.9492806354484989\n",
            "Epoch:516, Loss_G:1.4667324080305584, Loss_D:0.9473460963216879\n",
            "Epoch:517, Loss_G:1.4663706361237219, Loss_D:0.9490541925201308\n",
            "Epoch:518, Loss_G:1.463368394617307, Loss_D:0.9511884184880445\n",
            "Epoch:519, Loss_G:1.49066889993215, Loss_D:0.9417519318518666\n",
            "Epoch:520, Loss_G:1.4964614641868461, Loss_D:0.9425632758329143\n",
            "Epoch:521, Loss_G:1.4618327850002353, Loss_D:0.9487360710814848\n",
            "Epoch:522, Loss_G:1.4784844063096128, Loss_D:0.9438724623898328\n",
            "Epoch:523, Loss_G:1.4704541614500142, Loss_D:0.9490560242685221\n",
            "Epoch:524, Loss_G:1.4593208624144731, Loss_D:0.9514975142007494\n",
            "Epoch:525, Loss_G:1.4657781881801153, Loss_D:0.9480600735898745\n",
            "Epoch:526, Loss_G:1.485025372545598, Loss_D:0.9419496173912523\n",
            "Epoch:527, Loss_G:1.491758382926553, Loss_D:0.9413974120118523\n",
            "Epoch:528, Loss_G:1.4736193277068057, Loss_D:0.9497227436405117\n",
            "Epoch:529, Loss_G:1.4529278924909688, Loss_D:0.9524989421084776\n",
            "Epoch:530, Loss_G:1.4649436433436507, Loss_D:0.9508847888916899\n",
            "Epoch:531, Loss_G:1.4635169000948889, Loss_D:0.9511628454014406\n",
            "Epoch:532, Loss_G:1.4657275262525526, Loss_D:0.9514312700363202\n",
            "Epoch:533, Loss_G:1.4854969847000252, Loss_D:0.9405204621748736\n",
            "Epoch:534, Loss_G:1.467696553569729, Loss_D:0.9486406280496026\n",
            "Epoch:535, Loss_G:1.4886157452049902, Loss_D:0.9442243589519781\n",
            "Epoch:536, Loss_G:1.483872409594261, Loss_D:0.9460415138026416\n",
            "Epoch:537, Loss_G:1.4812228467504858, Loss_D:0.9461117051752274\n",
            "Epoch:538, Loss_G:1.4821846505342904, Loss_D:0.9462084793775095\n",
            "Epoch:539, Loss_G:1.4733288762933117, Loss_D:0.9495423064056763\n",
            "Epoch:540, Loss_G:1.4825899954569541, Loss_D:0.9448928002920528\n",
            "Epoch:541, Loss_G:1.4828512416047566, Loss_D:0.9454213986962529\n",
            "Epoch:542, Loss_G:1.4823795466099756, Loss_D:0.9447327757959312\n",
            "Epoch:543, Loss_G:1.4790343177520622, Loss_D:0.9463239603460172\n",
            "Epoch:544, Loss_G:1.4668281876434714, Loss_D:0.9456441949653087\n",
            "Epoch:545, Loss_G:1.4979442691398879, Loss_D:0.9421680498931367\n",
            "Epoch:546, Loss_G:1.453001972982439, Loss_D:0.951580189715671\n",
            "Epoch:547, Loss_G:1.4618373220249758, Loss_D:0.954140597817588\n",
            "Epoch:548, Loss_G:1.4842999759366957, Loss_D:0.9476280193881127\n",
            "Epoch:549, Loss_G:1.4801547365673517, Loss_D:0.9481799935890456\n",
            "Epoch:550, Loss_G:1.4683466028358976, Loss_D:0.9463392780662256\n",
            "Epoch:551, Loss_G:1.464991570529291, Loss_D:0.9486209613791967\n",
            "Epoch:552, Loss_G:1.472490481400894, Loss_D:0.9479766979729388\n",
            "Epoch:553, Loss_G:1.4776647191936687, Loss_D:0.9474421295069032\n",
            "Epoch:554, Loss_G:1.4747317958686312, Loss_D:0.947215695670769\n",
            "Epoch:555, Loss_G:1.4901976100469039, Loss_D:0.9419774153811783\n",
            "Epoch:556, Loss_G:1.5011698785474745, Loss_D:0.9392295622892972\n",
            "Epoch:557, Loss_G:1.4817313986309504, Loss_D:0.944849885789688\n",
            "Epoch:558, Loss_G:1.4807428273104004, Loss_D:0.945512601884745\n",
            "Epoch:559, Loss_G:1.481605514631433, Loss_D:0.9421830143632188\n",
            "Epoch:560, Loss_G:1.4768124717777058, Loss_D:0.9456358181554719\n",
            "Epoch:561, Loss_G:1.4756670109296248, Loss_D:0.9466486396425862\n",
            "Epoch:562, Loss_G:1.486554569106991, Loss_D:0.9478949035628367\n",
            "Epoch:563, Loss_G:1.4780924027248965, Loss_D:0.9472412376080529\n",
            "Epoch:564, Loss_G:1.486199569904198, Loss_D:0.9432371388384178\n",
            "Epoch:565, Loss_G:1.4937309804609267, Loss_D:0.9424152572949728\n",
            "Epoch:566, Loss_G:1.4766553973747512, Loss_D:0.9467608583512279\n",
            "Epoch:567, Loss_G:1.4684345661583593, Loss_D:0.9500504328032672\n",
            "Epoch:568, Loss_G:1.4717552288103912, Loss_D:0.9462086674520525\n",
            "Epoch:569, Loss_G:1.4649014472961426, Loss_D:0.9506922259842608\n",
            "Epoch:570, Loss_G:1.4814952076491663, Loss_D:0.9495498293873954\n",
            "Epoch:571, Loss_G:1.479675913261155, Loss_D:0.9465613749067662\n",
            "Epoch:572, Loss_G:1.4869202223874756, Loss_D:0.948071579643562\n",
            "Epoch:573, Loss_G:1.4933026928012654, Loss_D:0.9396316459623434\n",
            "Epoch:574, Loss_G:1.4821992001291049, Loss_D:0.9463284689154329\n",
            "Epoch:575, Loss_G:1.478393483970125, Loss_D:0.9484678660072176\n",
            "Epoch:576, Loss_G:1.479444682598114, Loss_D:0.9461888780364882\n",
            "Epoch:577, Loss_G:1.4790565321000957, Loss_D:0.9436662776322015\n",
            "Epoch:578, Loss_G:1.467465859348491, Loss_D:0.9496251607345323\n",
            "Epoch:579, Loss_G:1.4823274774066473, Loss_D:0.9420283436775208\n",
            "Epoch:580, Loss_G:1.4778616509195102, Loss_D:0.9502530352207227\n",
            "Epoch:581, Loss_G:1.4915958067118111, Loss_D:0.9452871567448654\n",
            "Epoch:582, Loss_G:1.4977189959105799, Loss_D:0.940325408332092\n",
            "Epoch:583, Loss_G:1.4903982978756145, Loss_D:0.9438382747483118\n",
            "Epoch:584, Loss_G:1.4931863091759763, Loss_D:0.9442037076263105\n",
            "Epoch:585, Loss_G:1.4835152706857455, Loss_D:0.9468144262577854\n",
            "Epoch:586, Loss_G:1.4662056827949266, Loss_D:0.9542522573538419\n",
            "Epoch:587, Loss_G:1.4764542377601235, Loss_D:0.9507145314230083\n",
            "Epoch:588, Loss_G:1.4750280450966398, Loss_D:0.9496917648840759\n",
            "Epoch:589, Loss_G:1.4849053843546722, Loss_D:0.9430138520938528\n",
            "Epoch:590, Loss_G:1.4874306432271407, Loss_D:0.9460464367422007\n",
            "Epoch:591, Loss_G:1.4853539557780249, Loss_D:0.94261342337576\n",
            "Epoch:592, Loss_G:1.5006533103474116, Loss_D:0.9399908860187746\n",
            "Epoch:593, Loss_G:1.4762244355880607, Loss_D:0.9475925692730705\n",
            "Epoch:594, Loss_G:1.4673675450228028, Loss_D:0.9489053864937044\n",
            "Epoch:595, Loss_G:1.481529092384597, Loss_D:0.9445792769981642\n",
            "Epoch:596, Loss_G:1.4725705284183308, Loss_D:0.9504116948715038\n",
            "Epoch:597, Loss_G:1.4704084467079679, Loss_D:0.9501901511418618\n",
            "Epoch:598, Loss_G:1.4864686080964946, Loss_D:0.942515655594357\n",
            "Epoch:599, Loss_G:1.4859195250575825, Loss_D:0.944642309078389\n"
          ]
        },
        {
          "output_type": "display_data",
          "data": {
            "text/plain": [
              "<Figure size 432x288 with 0 Axes>"
            ]
          },
          "metadata": {}
        }
      ]
    }
  ]
}